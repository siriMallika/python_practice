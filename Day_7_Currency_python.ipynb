{
  "nbformat": 4,
  "nbformat_minor": 0,
  "metadata": {
    "colab": {
      "name": "Day#7_Currency_python.ipynb",
      "provenance": [],
      "collapsed_sections": [],
      "authorship_tag": "ABX9TyPGUQ6IMrJbc9j8z53KZLgk",
      "include_colab_link": true
    },
    "kernelspec": {
      "name": "python3",
      "display_name": "Python 3"
    },
    "language_info": {
      "name": "python"
    }
  },
  "cells": [
    {
      "cell_type": "markdown",
      "metadata": {
        "id": "view-in-github",
        "colab_type": "text"
      },
      "source": [
        "<a href=\"https://colab.research.google.com/github/siriMallika/python_practice/blob/main/Day_7_Currency_python.ipynb\" target=\"_parent\"><img src=\"https://colab.research.google.com/assets/colab-badge.svg\" alt=\"Open In Colab\"/></a>"
      ]
    },
    {
      "cell_type": "code",
      "execution_count": 65,
      "metadata": {
        "id": "IoA0a5UxEcwj"
      },
      "outputs": [],
      "source": [
        "def total(pocket):\n",
        "  amount=0\n",
        "  for k in pocket:\n",
        "    amount+=k*pocket[k]\n",
        "  return amount"
      ]
    },
    {
      "cell_type": "code",
      "source": [
        "def take (pocket,money):\n",
        "  for k in money:\n",
        "      if k in pocket:\n",
        "        pocket[k]=pocket[k]+money[k]\n",
        "      else:\n",
        "        pocket[k]=money[k]\n",
        "  return pocket"
      ],
      "metadata": {
        "id": "kjZJrJ6gJgs5"
      },
      "execution_count": 117,
      "outputs": []
    },
    {
      "cell_type": "code",
      "source": [
        "def pay(pocket,amt):\n",
        "  money_type=sorted(pocket.keys())\n",
        "  for k in range(len(money_type)):\n",
        "    # print(len(money_type)-k-1)\n",
        "    # print(money_type[len(money_type)-k-1])\n",
        "    # m=money_type[len(money_type)-k-1]\n",
        "    \n",
        "    N1=amt/10# 12/10=1--> M10 --> 1 coin  del  pocket M10 -->5-1=4\n",
        "\n",
        "    n1=amt%10 #12%10=2 <1*7\n",
        "\n",
        "    n2=n1%1 # 2/1=2  -->  M1 --> 2 coins  del  pocket M1-->7-2=5\n",
        "    \n",
        "    print(n1)\n",
        "  return pocket\n"
      ],
      "metadata": {
        "id": "X3RFr_upE9_t"
      },
      "execution_count": 18,
      "outputs": []
    },
    {
      "cell_type": "code",
      "source": [
        "def pay(pocket,amt):\n",
        "  pay_pocket={}\n",
        "  \n",
        "  N1=amt//10# 12/10=1--> M10 --> 1 coin  del  pocket M10 -->5-1=4\n",
        "  pocket[10]=pocket[10]-N1\n",
        "  n1=amt%10 #12%10=2 <1*7\n",
        "  pay_pocket[10]=N1\n",
        "  if amt%10 <= pocket[1]*1:\n",
        "    N2=n1//1 # 2/1=2  -->  M1 --> 2 coins  del  pocket M1-->7-2=5\n",
        "    pocket[1]=pocket[1]-N2\n",
        "    pay_pocket[1]=N2\n",
        "  else:\n",
        "    pay_pocket={}\n",
        "  return pay_pocket\n"
      ],
      "metadata": {
        "id": "Qxa_ZOUDTlaF"
      },
      "execution_count": 43,
      "outputs": []
    },
    {
      "cell_type": "code",
      "source": [
        "def pay(pocket,amt):\n",
        "  money_type=sorted(pocket.keys())\n",
        "  pay_pocket={}\n",
        "  temp = pocket\n",
        "  for k in range(len(money_type)):\n",
        "    N1=money_type[len(money_type)-k-1]\n",
        "    remain_amt=amt%N1\n",
        "    if amt>total(pocket): \n",
        "      pay_pocket={}\n",
        "      pocket=temp\n",
        "    elif amt//N1>=0:\n",
        "      if remain_amt <= pocket[N1]*N1:\n",
        "        N2=amt//N1\n",
        "        if amt>total(pocket): \n",
        "          pay_pocket={}\n",
        "          pocket=temp\n",
        "        elif pocket[N1]-N2<0:\n",
        "          pay_pocket={}\n",
        "          pocket=temp\n",
        "        else:\n",
        "          pocket[N1]=pocket[N1]-N2\n",
        "          pay_pocket[N1]=N2  \n",
        "\n",
        "    amt=amt%N1\n",
        "    # N1=money_type[len(money_type)-k-1]\n",
        "    # pay_pocket[N1]=amt//N1# 12/10=1--> M10 --> 1 coin  del  pocket M10 -->5-1=4\n",
        "    # pocket[N1]=pocket[N1]-pay_pocket[N1]\n",
        "    # remain_amt=amt%N1 #12%10=2 <1*7\n",
        "    # pay_pocket[N1]=pocket[N1]\n",
        "    # N2=money_type[len(money_type)-k-2]\n",
        "  # if amt%N1 <= pocket[1]*1:\n",
        "  #   N2=remain_amt//1 # 2/1=2  -->  M1 --> 2 coins  del  pocket M1-->7-2=5\n",
        "  #   pocket[1]=pocket[1]-N2\n",
        "  #   pay_pocket[1]=N2\n",
        "  # else:\n",
        "  #   pay_pocket={}\n",
        "  return pay_pocket\n"
      ],
      "metadata": {
        "id": "vDBkV4ejRdrQ"
      },
      "execution_count": 110,
      "outputs": []
    },
    {
      "cell_type": "code",
      "source": [
        "def pay(pocket,amt):\n",
        "  money_type=sorted(pocket.keys())\n",
        "  pay_pocket={}\n",
        "  temp = {}\n",
        "  for k in range(len(money_type)):\n",
        "    N1=money_type[len(money_type)-k-1]\n",
        "    remain_amt=amt%N1\n",
        "    if amt>total(pocket): \n",
        "      pay_pocket={}\n",
        "      take(pocket,temp)\n",
        "      print('Over')\n",
        "    elif amt//N1>=0:\n",
        "      if remain_amt <= pocket[N1]*N1:\n",
        "        N2=amt//N1\n",
        "        if pocket[N1]-N2<0:\n",
        "          pay_pocket={}\n",
        "          take(pocket,temp)\n",
        "          print('Negative')\n",
        "        else:\n",
        "          temp[N1]=N2\n",
        "          pocket[N1]=pocket[N1]-N2\n",
        "          if N2>0:\n",
        "            pay_pocket[N1]=N2  \n",
        "\n",
        "    amt=amt%N1\n",
        "\n",
        "  return pay_pocket\n"
      ],
      "metadata": {
        "id": "Tx8ddkEQhR3U"
      },
      "execution_count": 150,
      "outputs": []
    },
    {
      "cell_type": "markdown",
      "source": [
        "## Ex3 pay"
      ],
      "metadata": {
        "id": "r8iO_VT_KxxZ"
      }
    },
    {
      "cell_type": "code",
      "source": [
        "p={10:5,1:7};print(pay(p, 12));print(p)"
      ],
      "metadata": {
        "colab": {
          "base_uri": "https://localhost:8080/"
        },
        "id": "GMTOnoeQKz3G",
        "outputId": "1c2bf2f1-e77a-4a6f-b9e3-39decc7e3e5a"
      },
      "execution_count": 151,
      "outputs": [
        {
          "output_type": "stream",
          "name": "stdout",
          "text": [
            "{10: 1, 1: 2}\n",
            "{10: 4, 1: 5}\n"
          ]
        }
      ]
    },
    {
      "cell_type": "code",
      "source": [
        "p={10:5,1:7};print(pay(p, 18));print(p)"
      ],
      "metadata": {
        "colab": {
          "base_uri": "https://localhost:8080/"
        },
        "outputId": "70fae98e-1566-441c-8366-cbc5638908d8",
        "id": "QWLcmhA4a2Cy"
      },
      "execution_count": 152,
      "outputs": [
        {
          "output_type": "stream",
          "name": "stdout",
          "text": [
            "Negative\n",
            "{}\n",
            "{10: 5, 1: 7}\n"
          ]
        }
      ]
    },
    {
      "cell_type": "code",
      "source": [
        "p={10:5,1:7};print(pay(p, 100));print(p)"
      ],
      "metadata": {
        "colab": {
          "base_uri": "https://localhost:8080/"
        },
        "outputId": "9a2fa12f-ea40-4d63-f7d0-808980e56aec",
        "id": "RJrO5FMla2VS"
      },
      "execution_count": 153,
      "outputs": [
        {
          "output_type": "stream",
          "name": "stdout",
          "text": [
            "Over\n",
            "{}\n",
            "{10: 5, 1: 7}\n"
          ]
        }
      ]
    },
    {
      "cell_type": "code",
      "source": [
        "p={10:5,1:7};print(pay(p, 57));print(p)"
      ],
      "metadata": {
        "colab": {
          "base_uri": "https://localhost:8080/"
        },
        "outputId": "80be7803-83b2-4981-d300-2e5f07398fa5",
        "id": "sTJp_EWFa6zj"
      },
      "execution_count": 154,
      "outputs": [
        {
          "output_type": "stream",
          "name": "stdout",
          "text": [
            "{10: 5, 1: 7}\n",
            "{10: 0, 1: 0}\n"
          ]
        }
      ]
    },
    {
      "cell_type": "markdown",
      "source": [
        "## Ex 2 take"
      ],
      "metadata": {
        "id": "0qMCwAFaGNRx"
      }
    },
    {
      "cell_type": "code",
      "source": [
        "p={100:5}\n",
        "take(p,{100:2,1:3})\n",
        "print(p)"
      ],
      "metadata": {
        "colab": {
          "base_uri": "https://localhost:8080/"
        },
        "id": "V-Ihkj99GO00",
        "outputId": "af831788-2b2d-4b3b-99e8-f262f8368afb"
      },
      "execution_count": 10,
      "outputs": [
        {
          "output_type": "stream",
          "name": "stdout",
          "text": [
            "{100: 7, 1: 3}\n"
          ]
        }
      ]
    },
    {
      "cell_type": "code",
      "source": [
        "p={100:5}\n",
        "take(p,{100:0,1:0})\n",
        "print(p)"
      ],
      "metadata": {
        "colab": {
          "base_uri": "https://localhost:8080/"
        },
        "outputId": "9269afbd-e1de-448d-ddec-d1bcb5bf5cf2",
        "id": "FB0j26e3hgrj"
      },
      "execution_count": 118,
      "outputs": [
        {
          "output_type": "stream",
          "name": "stdout",
          "text": [
            "{100: 5, 1: 0}\n"
          ]
        }
      ]
    },
    {
      "cell_type": "markdown",
      "source": [
        "##Ex 1 total"
      ],
      "metadata": {
        "id": "eJDMmapDF9L7"
      }
    },
    {
      "cell_type": "code",
      "source": [
        "p={100:2,50:2,5:2,1:2}  #dict type\n",
        "print(total(p))"
      ],
      "metadata": {
        "colab": {
          "base_uri": "https://localhost:8080/"
        },
        "id": "xzx0bqzZE8Ob",
        "outputId": "077342dc-1f5b-48ff-dc3a-3cf814679a0d"
      },
      "execution_count": 115,
      "outputs": [
        {
          "output_type": "stream",
          "name": "stdout",
          "text": [
            "312\n"
          ]
        }
      ]
    }
  ]
}