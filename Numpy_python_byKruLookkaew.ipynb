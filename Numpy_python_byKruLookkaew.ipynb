{
  "nbformat": 4,
  "nbformat_minor": 0,
  "metadata": {
    "colab": {
      "name": "Numpy_python_byKruLookkaew.ipynb",
      "provenance": [],
      "authorship_tag": "ABX9TyOjQ9f0/5K9Ze4vK8KYVifN",
      "include_colab_link": true
    },
    "kernelspec": {
      "name": "python3",
      "display_name": "Python 3"
    },
    "language_info": {
      "name": "python"
    }
  },
  "cells": [
    {
      "cell_type": "markdown",
      "metadata": {
        "id": "view-in-github",
        "colab_type": "text"
      },
      "source": [
        "<a href=\"https://colab.research.google.com/github/siriMallika/python_practice/blob/main/Numpy_python_byKruLookkaew.ipynb\" target=\"_parent\"><img src=\"https://colab.research.google.com/assets/colab-badge.svg\" alt=\"Open In Colab\"/></a>"
      ]
    },
    {
      "cell_type": "code",
      "source": [
        "pip install numpy"
      ],
      "metadata": {
        "colab": {
          "base_uri": "https://localhost:8080/"
        },
        "id": "aVQOLypK4In5",
        "outputId": "afe7fa20-5ba6-4155-bcee-90d1999d8596"
      },
      "execution_count": 2,
      "outputs": [
        {
          "output_type": "stream",
          "name": "stdout",
          "text": [
            "Requirement already satisfied: numpy in /usr/local/lib/python3.7/dist-packages (1.21.6)\n"
          ]
        }
      ]
    },
    {
      "cell_type": "code",
      "execution_count": 1,
      "metadata": {
        "id": "plUMW89Y3c9q"
      },
      "outputs": [],
      "source": [
        "import numpy as np"
      ]
    },
    {
      "cell_type": "code",
      "source": [
        "def all_pair_dis(point):\n",
        "  n=len(points)\n",
        "  X= point[:,0]\n",
        "  Y= point[:,1]\n",
        "  dx = X - X.reshape(n,1)\n",
        "  dy = Y- Y.reshape(n,1)\n",
        "  D=(dx**2+dy**2)**0.5\n",
        "  return D"
      ],
      "metadata": {
        "id": "QojF_kVp9QUy"
      },
      "execution_count": 3,
      "outputs": []
    },
    {
      "cell_type": "code",
      "source": [
        "c=np.array([[0, 1],[2 ,3],[4, 5],[6, 7]])"
      ],
      "metadata": {
        "id": "TQ1oE2Kv94Iv"
      },
      "execution_count": 5,
      "outputs": []
    },
    {
      "cell_type": "code",
      "source": [
        "d= c.reshape((2,4))"
      ],
      "metadata": {
        "id": "85OJY4ZMAuZS"
      },
      "execution_count": 7,
      "outputs": []
    },
    {
      "cell_type": "code",
      "source": [
        "d"
      ],
      "metadata": {
        "colab": {
          "base_uri": "https://localhost:8080/"
        },
        "id": "Ia7L8mEOA7CI",
        "outputId": "fe1625b4-85f5-4b79-8f42-f73a2c1576cf"
      },
      "execution_count": 8,
      "outputs": [
        {
          "output_type": "execute_result",
          "data": {
            "text/plain": [
              "array([[0, 1, 2, 3],\n",
              "       [4, 5, 6, 7]])"
            ]
          },
          "metadata": {},
          "execution_count": 8
        }
      ]
    },
    {
      "cell_type": "markdown",
      "source": [
        "# New Section"
      ],
      "metadata": {
        "id": "1ntSFLRwBF28"
      }
    },
    {
      "cell_type": "code",
      "source": [
        ""
      ],
      "metadata": {
        "id": "UT6uNj_WBFnU"
      },
      "execution_count": null,
      "outputs": []
    }
  ]
}