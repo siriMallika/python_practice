{
  "nbformat": 4,
  "nbformat_minor": 0,
  "metadata": {
    "colab": {
      "name": "Day#5-python-by_Kru-Lookkaew.ipynb",
      "provenance": [],
      "collapsed_sections": [],
      "authorship_tag": "ABX9TyM4X0Dn28ZcxttVmpbyI3/d",
      "include_colab_link": true
    },
    "kernelspec": {
      "name": "python3",
      "display_name": "Python 3"
    },
    "language_info": {
      "name": "python"
    }
  },
  "cells": [
    {
      "cell_type": "markdown",
      "metadata": {
        "id": "view-in-github",
        "colab_type": "text"
      },
      "source": [
        "<a href=\"https://colab.research.google.com/github/siriMallika/python_practice/blob/main/Day_5_python_by_Kru_Lookkaew.ipynb\" target=\"_parent\"><img src=\"https://colab.research.google.com/assets/colab-badge.svg\" alt=\"Open In Colab\"/></a>"
      ]
    },
    {
      "cell_type": "markdown",
      "source": [
        "https://www.coursehero.com/file/48638801/2110101-Midterm-Sample411115062170533624pdf/"
      ],
      "metadata": {
        "id": "FAcomD0hew-c"
      }
    },
    {
      "cell_type": "markdown",
      "source": [
        "1. ถ้าให้คำสั่ง a = 123.4 ทำงาน ตามด้วยให้ a = \"123.4\" ทำงาน แล้วตัวแปร a เก็บข้อมูลประเภทใด"
      ],
      "metadata": {
        "id": "doifmu4cep25"
      }
    },
    {
      "cell_type": "code",
      "execution_count": 1,
      "metadata": {
        "colab": {
          "base_uri": "https://localhost:8080/"
        },
        "id": "bJMYxKMgYBZE",
        "outputId": "2a44f724-f25c-4bb9-fc05-aa1ab81c48f7"
      },
      "outputs": [
        {
          "output_type": "execute_result",
          "data": {
            "text/plain": [
              "str"
            ]
          },
          "metadata": {},
          "execution_count": 1
        }
      ],
      "source": [
        "a = 123.4\n",
        "a = \"123.4\"\n",
        "type(a)"
      ]
    },
    {
      "cell_type": "markdown",
      "source": [
        "2. ชื่อตัวแปรในข้อใดผิดกฎในภาษา"
      ],
      "metadata": {
        "id": "fhDfJDrVfLSg"
      }
    },
    {
      "cell_type": "code",
      "source": [
        "T^T"
      ],
      "metadata": {
        "id": "hW4btDwQfPgX"
      },
      "execution_count": null,
      "outputs": []
    },
    {
      "cell_type": "markdown",
      "source": [
        "3. ถ้า a = 87634 ค าสั่ง a%1000//10%10 มีค่าเท่ากับข้อใด\n",
        "\n",
        "\n",
        "---\n",
        "\n",
        "\n",
        "A) 7 B) 6 C) 3 D) 4 E) ไม่มีข้อใดถูก\n"
      ],
      "metadata": {
        "id": "vPg4yVyEfU82"
      }
    },
    {
      "cell_type": "code",
      "source": [
        "a = 87634\n",
        "a%1000//10%10"
      ],
      "metadata": {
        "colab": {
          "base_uri": "https://localhost:8080/"
        },
        "id": "thqFWp27fSQO",
        "outputId": "c191fcaa-0468-46e6-daa1-cffd51bbc828"
      },
      "execution_count": 5,
      "outputs": [
        {
          "output_type": "execute_result",
          "data": {
            "text/plain": [
              "3"
            ]
          },
          "metadata": {},
          "execution_count": 5
        }
      ]
    },
    {
      "cell_type": "markdown",
      "source": [
        "4. การคำนวณในข้อใดได้ผลต่างจากข้ออื่น"
      ],
      "metadata": {
        "id": "kqjEmWatfy-s"
      }
    },
    {
      "cell_type": "markdown",
      "source": [
        "*/%  +-  --> ซ้ายไปขวา"
      ],
      "metadata": {
        "id": "oy3ia1mohYKT"
      }
    },
    {
      "cell_type": "markdown",
      "source": [
        "** ขวา -->ซ้าย"
      ],
      "metadata": {
        "id": "VUMsOEDUhjKO"
      }
    },
    {
      "cell_type": "code",
      "source": [
        "import math"
      ],
      "metadata": {
        "id": "Xekd06Awgp4B"
      },
      "execution_count": 9,
      "outputs": []
    },
    {
      "cell_type": "code",
      "source": [
        "9**1/2  #correct"
      ],
      "metadata": {
        "colab": {
          "base_uri": "https://localhost:8080/"
        },
        "id": "nMkvCRCtgVC5",
        "outputId": "a3f0f28a-85b5-464a-b46a-8b2f51cee3d0"
      },
      "execution_count": 11,
      "outputs": [
        {
          "output_type": "execute_result",
          "data": {
            "text/plain": [
              "4.5"
            ]
          },
          "metadata": {},
          "execution_count": 11
        }
      ]
    },
    {
      "cell_type": "code",
      "source": [
        "9**(1/2)"
      ],
      "metadata": {
        "colab": {
          "base_uri": "https://localhost:8080/"
        },
        "id": "9z_y0V2og4v0",
        "outputId": "94ed46d4-855a-4374-f631-8483c60c70ae"
      },
      "execution_count": 16,
      "outputs": [
        {
          "output_type": "execute_result",
          "data": {
            "text/plain": [
              "3.0"
            ]
          },
          "metadata": {},
          "execution_count": 16
        }
      ]
    },
    {
      "cell_type": "code",
      "source": [
        "9**0.5"
      ],
      "metadata": {
        "colab": {
          "base_uri": "https://localhost:8080/"
        },
        "id": "Y_JTDPYagzkL",
        "outputId": "938fad4e-530a-4a65-ff64-a62abe0ed40a"
      },
      "execution_count": 14,
      "outputs": [
        {
          "output_type": "execute_result",
          "data": {
            "text/plain": [
              "3.0"
            ]
          },
          "metadata": {},
          "execution_count": 14
        }
      ]
    },
    {
      "cell_type": "code",
      "source": [
        "math.sqrt(9)"
      ],
      "metadata": {
        "colab": {
          "base_uri": "https://localhost:8080/"
        },
        "id": "4dVRtOAMgVsL",
        "outputId": "b941a433-0120-4225-a82f-b04094456580"
      },
      "execution_count": 10,
      "outputs": [
        {
          "output_type": "execute_result",
          "data": {
            "text/plain": [
              "3.0"
            ]
          },
          "metadata": {},
          "execution_count": 10
        }
      ]
    },
    {
      "cell_type": "code",
      "source": [
        "math.pow(9,1/2)"
      ],
      "metadata": {
        "colab": {
          "base_uri": "https://localhost:8080/"
        },
        "id": "2kSU93BkgYUW",
        "outputId": "1d6c75bc-c6b5-4cd1-e0e7-c9eb061a3507"
      },
      "execution_count": 15,
      "outputs": [
        {
          "output_type": "execute_result",
          "data": {
            "text/plain": [
              "float"
            ]
          },
          "metadata": {},
          "execution_count": 15
        }
      ]
    },
    {
      "cell_type": "code",
      "source": [
        "3/1"
      ],
      "metadata": {
        "colab": {
          "base_uri": "https://localhost:8080/"
        },
        "id": "uLnwwQtmgZ8T",
        "outputId": "118ae692-8928-4aee-9422-814b50003dce"
      },
      "execution_count": 13,
      "outputs": [
        {
          "output_type": "execute_result",
          "data": {
            "text/plain": [
              "3.0"
            ]
          },
          "metadata": {},
          "execution_count": 13
        }
      ]
    },
    {
      "cell_type": "code",
      "source": [
        "เหมือนกันทุกข้อ"
      ],
      "metadata": {
        "id": "tWan--_zghlK"
      },
      "execution_count": null,
      "outputs": []
    },
    {
      "cell_type": "markdown",
      "source": [
        "5. เมื่อโปรแกรมทางขวานี้ท างาน แล้วป้อนเลข 12345 จะได้ a มีค่าเท่าใด"
      ],
      "metadata": {
        "id": "yA5gginih2Mo"
      }
    },
    {
      "cell_type": "code",
      "source": [
        "n = int(input())\n",
        "a = n%10\n",
        "n //= 10; a = 10*a + n%10\n",
        "n //= 10; a = 10*a + n%10\n",
        "n //= 10; a = 10*a + n%10\n",
        "n //= 10; a = 10*a + n%10"
      ],
      "metadata": {
        "id": "2foQh3Z5h8Dw"
      },
      "execution_count": null,
      "outputs": []
    },
    {
      "cell_type": "markdown",
      "source": [
        "A) 10000 B) 50000 C) 12345 D) 54321"
      ],
      "metadata": {
        "id": "Mcr0bKiuiA79"
      }
    },
    {
      "cell_type": "markdown",
      "source": [
        "6. คำสั่ง 5+a/9*(c + 32) แทนการคำนวณสูตรใด"
      ],
      "metadata": {
        "id": "WQVEv7EyiIev"
      }
    },
    {
      "cell_type": "code",
      "source": [
        ""
      ],
      "metadata": {
        "id": "3H8tOXBeiPsu"
      },
      "execution_count": null,
      "outputs": []
    },
    {
      "cell_type": "code",
      "source": [
        ""
      ],
      "metadata": {
        "id": "SX-ydYB8j07J"
      },
      "execution_count": null,
      "outputs": []
    },
    {
      "cell_type": "markdown",
      "source": [
        "7. ให้ m เก็บจ านวนเต็ม ข้อใดไม่ใช่ค าสั่งที่ทดสอบว่า m เก็บเลขเดือนที่ถูกต้อง"
      ],
      "metadata": {
        "id": "5lUk_4m2jbu4"
      }
    },
    {
      "cell_type": "code",
      "source": [
        "if m > 0 and m < 13 :"
      ],
      "metadata": {
        "id": "Qcs8_lQflioL"
      },
      "execution_count": null,
      "outputs": []
    },
    {
      "cell_type": "code",
      "source": [
        "if not(m < 1 or m > 12) :"
      ],
      "metadata": {
        "id": "YEuNohrMl53r"
      },
      "execution_count": null,
      "outputs": []
    },
    {
      "cell_type": "code",
      "source": [
        "if 1 <= m <= 12 : "
      ],
      "metadata": {
        "id": "o-h23ovOl9Cw"
      },
      "execution_count": null,
      "outputs": []
    },
    {
      "cell_type": "code",
      "source": [
        "if 0 < m < 13:"
      ],
      "metadata": {
        "id": "smT-vjLjmGxs"
      },
      "execution_count": null,
      "outputs": []
    },
    {
      "cell_type": "markdown",
      "source": [
        "13.ถ้าให้โปรแกรมทางขวานี้ท างาน แล้วป้อนข้อมูลเป็น 7 1 4 6 อยากทราบว่าจะแสดงอะไร"
      ],
      "metadata": {
        "id": "K410ludoncZ7"
      }
    },
    {
      "cell_type": "code",
      "source": [
        "a,b,c,d = [int(e) for e in input().split()]\n",
        "if a > b : a,b = b,a\n",
        "if b > c : b,c = c,b\n",
        "if c > d : c,d = d,c\n",
        "if a > b : a,b = b,a\n",
        "if b > c : b,c = c,b\n",
        "if a > b : a,b = b,a\n",
        "print(b)\n"
      ],
      "metadata": {
        "id": "9_KjClrNoSSe"
      },
      "execution_count": null,
      "outputs": []
    },
    {
      "cell_type": "code",
      "source": [
        "A) 7\n",
        "B) 1\n",
        "C) 4\n",
        "D) 6"
      ],
      "metadata": {
        "id": "jPxPsWO5ne9m"
      },
      "execution_count": null,
      "outputs": []
    },
    {
      "cell_type": "markdown",
      "source": [
        "ใช้โปรแกรมข้างล่างนี้ ตอบค าถาม 3 ข้อต่อไปน 14-16"
      ],
      "metadata": {
        "id": "JyvrbOQCoy23"
      }
    },
    {
      "cell_type": "code",
      "source": [
        "a,b,c = [int(e) for e in input().split()]\n",
        "if a > b :\n",
        " a += b\n",
        "elif a < b :\n",
        " b += a\n",
        "else:\n",
        " a = b + c\n",
        "print(a,b,c)"
      ],
      "metadata": {
        "id": "oynBgCc7oyDU"
      },
      "execution_count": null,
      "outputs": []
    },
    {
      "cell_type": "markdown",
      "source": [
        "14.ถ้าโปรแกรมข้างบนท างาน แล้วป้อนข้อมูลเป็น 2 4 2 จะแสดงอะไรทางจอภาพ"
      ],
      "metadata": {
        "id": "eR1rHlgZpIX5"
      }
    },
    {
      "cell_type": "markdown",
      "source": [
        "A) 2 4 2 B) 2 6 2 C) 6 2 2 D) 6 4 2 E) ไม่มีข้อใดถูก"
      ],
      "metadata": {
        "id": "JReRuQVNpL2U"
      }
    },
    {
      "cell_type": "markdown",
      "source": [
        "15.ถ้าโปรแกรมข้างบนท างาน แล้วป้อนข้อมูลเป็น 4 4 2 จะแสดงอะไรทางจอภาพ"
      ],
      "metadata": {
        "id": "Ciw5oGFHpSQQ"
      }
    },
    {
      "cell_type": "markdown",
      "source": [
        "16.ถ้าโปรแกรมข้างบนท างาน แล้วป้อนข้อมูลเป็น 4 2 2 จะแสดงอะไรทางจอภาพ"
      ],
      "metadata": {
        "id": "9-ASnkjEpTZn"
      }
    },
    {
      "cell_type": "markdown",
      "source": [
        "ใช้โปรแกรมข้างล่างนี้ ตอบค าถาม 2ข้อต่อไปนี  17-18"
      ],
      "metadata": {
        "id": "b4JeSx6fpWNT"
      }
    },
    {
      "cell_type": "code",
      "source": [
        "s = float(input())\n",
        "if s > 80 : g = \"A\"\n",
        "if s > 60 : g = \"C\"\n",
        "if s > 70 : g = \"B\"\n",
        "if s < 50 : g = \"F\"\n",
        "if s > 50 : g = \"D\"\n",
        "print( g )"
      ],
      "metadata": {
        "id": "TP-GJxQNpsGv"
      },
      "execution_count": null,
      "outputs": []
    },
    {
      "cell_type": "markdown",
      "source": [
        "17.ถ้าโปรแกรมข้างบนท างาน แล้วป้อนข้อมูลเป็น 62.75 จะแสดงอะไรทางจอภาพ"
      ],
      "metadata": {
        "id": "mUyOXBZHproR"
      }
    },
    {
      "cell_type": "markdown",
      "source": [
        "18.ถ้าโปรแกรมข้างบนท างาน แล้วป้อนข้อมูลเป็น 99.99 จะแสดงอะไรทางจอภาพ"
      ],
      "metadata": {
        "id": "mbnycnlTqGuQ"
      }
    },
    {
      "cell_type": "markdown",
      "source": [
        "19.ถ้าให้โปรแกรมทางขวานี้ท างาน แสดงผลออกทางจอภาพกี่บรรทัด"
      ],
      "metadata": {
        "id": "RQfnVsnJqHpY"
      }
    },
    {
      "cell_type": "code",
      "source": [
        "while True:\n",
        "for i in range(1, 5):\n",
        " if i % 3 == 0:\n",
        " break\n",
        " print(i)\n",
        "print('done')"
      ],
      "metadata": {
        "id": "u57yr_NYqcBj"
      },
      "execution_count": null,
      "outputs": []
    },
    {
      "cell_type": "markdown",
      "source": [
        "20.ถ้าให้โปรแกรมทางขวานี้ท างาน แสดงผลออกทางจอภาพกี่บรรทัด"
      ],
      "metadata": {
        "id": "lQCXjw4BqQ1U"
      }
    },
    {
      "cell_type": "code",
      "source": [
        "for i in range(1, 4):\n",
        " for j in range(i):\n",
        " print(i, j)\n"
      ],
      "metadata": {
        "id": "jzt1ATrUqhWJ"
      },
      "execution_count": null,
      "outputs": []
    },
    {
      "cell_type": "markdown",
      "source": [
        "21.ถ้าให้โปรแกรมทางขวานี้ท างาน แสดงผลออกทางจอภาพกี่บรรทัด"
      ],
      "metadata": {
        "id": "S6PuKM1XqkQM"
      }
    },
    {
      "cell_type": "code",
      "source": [
        "for i in range(4, 1):\n",
        " for j in range(1, i):\n",
        " print(i, j)"
      ],
      "metadata": {
        "id": "9wvMYiz-qscd"
      },
      "execution_count": null,
      "outputs": []
    },
    {
      "cell_type": "markdown",
      "source": [
        "22.โปรแกรมทางขวานี้แสดงผลออกอะไรทางจอภาพ"
      ],
      "metadata": {
        "id": "W8qZ0Siuqu1k"
      }
    },
    {
      "cell_type": "code",
      "source": [
        "s = 0\n",
        "n = 3\n",
        "for k in range(1, n):\n",
        " for j in range(k):\n",
        " s += k*j\n",
        "print(s)"
      ],
      "metadata": {
        "id": "dCfe0yfPqyTH"
      },
      "execution_count": null,
      "outputs": []
    },
    {
      "cell_type": "markdown",
      "source": [
        "23.ข้อใดต่อไปนี้ท าให้เกิด Error เมื่อ s = \"This is a pen.\""
      ],
      "metadata": {
        "id": "s8fcE8O5q3x-"
      }
    },
    {
      "cell_type": "code",
      "source": [
        "A) s1 = s[0] B) s = s[0:0] C) s1 = s[0:0] D) s1 = s[100] E) ไม่มีข้อใดเกิด Error"
      ],
      "metadata": {
        "id": "Cfc_0MSHq2v9"
      },
      "execution_count": null,
      "outputs": []
    },
    {
      "cell_type": "markdown",
      "source": [
        "24.เมื่อ s = \"This is a pen.\" ผลการรันค าสั่ง print(s.find(\"is\",2)) จะได้ผลลัพธ์เป็นอย่างไร"
      ],
      "metadata": {
        "id": "Pi4-L_KSrYGJ"
      }
    },
    {
      "cell_type": "code",
      "source": [
        "A) -1 B) 0 C) 2 D) 5 E) ไม่มีข้อใดถูก"
      ],
      "metadata": {
        "id": "BpOh84MKrfbm"
      },
      "execution_count": null,
      "outputs": []
    },
    {
      "cell_type": "markdown",
      "source": [
        "25.เมื่อ s = \"This is a pen.\" ผลการรันค าสั่ง print(s[2:5].upper()) จะได้ผลลัพธ์เป็นอย่างไร"
      ],
      "metadata": {
        "id": "39-QFenmriud"
      }
    },
    {
      "cell_type": "code",
      "source": [
        "A) is B) IS C) is i D) IS I E) ไม่มีข้อใดถูก"
      ],
      "metadata": {
        "id": "MBf8lJeyrnA0"
      },
      "execution_count": null,
      "outputs": []
    },
    {
      "cell_type": "markdown",
      "source": [
        "26.ผลการรันค าสั่ง print((\"1\"*2+2)*3) จะได้ผลลัพธ์เป็นอย่างไร"
      ],
      "metadata": {
        "id": "CSPifpjmruKg"
      }
    },
    {
      "cell_type": "code",
      "source": [
        "A) 112 B) 112112112 C) 111111111111 D) 12121212 E) ไม่มีข้อใดถูก"
      ],
      "metadata": {
        "id": "F_Ies73ur3uy"
      },
      "execution_count": null,
      "outputs": []
    },
    {
      "cell_type": "markdown",
      "source": [
        "27.หากเก็บเลขประจ าตัวนิสิต 10 หลักของนิสิตจ านวน 100 คน ไว้ในตัวแปร stored_id เช่น"
      ],
      "metadata": {
        "id": "BLt_JEENrmQY"
      }
    },
    {
      "cell_type": "code",
      "source": [
        "\"5937015921:5934847821:5938763221:593...\" ตัวเลือกในข้อใดสามารถหาล าดับที่ของเลขประจ าตัวที่ต้องการค้นหา"
      ],
      "metadata": {
        "id": "f9ymsIFJsBG_"
      },
      "execution_count": null,
      "outputs": []
    },
    {
      "cell_type": "code",
      "source": [
        "(เก็บในตัวแปร key_id) ได้ เช่น หากต้องการค้นหาเลขประจ าตัว 5937015921 จะต้องตอบ เป็น 1 "
      ],
      "metadata": {
        "id": "v31ISB0lsFzc"
      },
      "execution_count": null,
      "outputs": []
    },
    {
      "cell_type": "code",
      "source": [
        "A) (stored_id.find(key_id)+11)//11 B) stored_id.find(key_id)//10+1\n",
        "C) stored_id.find(key_id)//10 D) stored_id.find(key_id)//11\n",
        "E) ไม่มีข้อใดถูก"
      ],
      "metadata": {
        "id": "2ytoclROsLTQ"
      },
      "execution_count": null,
      "outputs": []
    },
    {
      "cell_type": "markdown",
      "source": [
        "28.โปรแกรมทางขวานี้แสดงผลอะไรออกทางจอภาพ"
      ],
      "metadata": {
        "id": "Lx-5HV6hrduM"
      }
    },
    {
      "cell_type": "code",
      "source": [
        "s = \"email: abc@gmail.com\"\n",
        "i1 = s.find(\":\")\n",
        "i2 = s.find(\"@\")\n",
        "print(s[i1+1:i2].strip())"
      ],
      "metadata": {
        "id": "J0tpI6SHsWmh"
      },
      "execution_count": null,
      "outputs": []
    },
    {
      "cell_type": "code",
      "source": [
        "A) email B) abc C) gmail\n",
        "D) com\n",
        "E) ไม่มีข้อใดถูก"
      ],
      "metadata": {
        "id": "NOEfI8jUsaVU"
      },
      "execution_count": null,
      "outputs": []
    },
    {
      "cell_type": "markdown",
      "source": [
        "29.โปรแกรมทางขวานี้ต้องการพิมพ์แต่ตัวเลขในข้อความออกทางจอภาพ บรรทัดใดผิด"
      ],
      "metadata": {
        "id": "otTcuYSgseaC"
      }
    },
    {
      "cell_type": "code",
      "source": [
        "1: s = \"Tel: 081-483-3822\"\n",
        "2: out = \"\"\n",
        "3: for c in s:\n",
        "4: if c in \"0123456789\":\n",
        "5: out += s\n",
        "6: print(out)\n"
      ],
      "metadata": {
        "id": "FWwfQl3ospQf"
      },
      "execution_count": null,
      "outputs": []
    },
    {
      "cell_type": "code",
      "source": [
        "A) 1 B) 3 C) 4 D) 5\n",
        "E) ไม่มีข้อใดถูก"
      ],
      "metadata": {
        "id": "07d6M-kAstyO"
      },
      "execution_count": null,
      "outputs": []
    },
    {
      "cell_type": "markdown",
      "source": [
        "30.หากต้องการสร้างข้อความใหม่จากข้อความเดิม โดยใช้ต าแหน่งที่หารด้วย 3 ลงตัว เช่น หากข้อความเดิมเป็น \"Aa1B8dCieD38E\" จะได้\n",
        "ข้อความใหม่เป็น \"ABCDE\" โปรแกรมทางขวามือ บรรทัดใดผิด"
      ],
      "metadata": {
        "id": "Q3s5eomms3Fn"
      }
    },
    {
      "cell_type": "code",
      "source": [
        "s = \"Aa1B8dCieD38E\"\n",
        "o = \"\"\n",
        "for i in range(len(s)-1)\n",
        " if i%3 == 0:\n",
        " o += s[i]\n",
        "print(o)\n"
      ],
      "metadata": {
        "id": "5JM6VkLLs-GV"
      },
      "execution_count": null,
      "outputs": []
    },
    {
      "cell_type": "code",
      "source": [
        "A) 1 B) 3 C) 4 D) 5\n",
        "E) ไม่มีข้อใดถูก"
      ],
      "metadata": {
        "id": "0dYQ-w8es7YL"
      },
      "execution_count": null,
      "outputs": []
    },
    {
      "cell_type": "markdown",
      "source": [
        "31.สมมติว่าในกล่องทางขวาเป็นข้อความในไฟล์ชื่อ data.txt โปรแกรมในกล่องทางขวา จะให้ผลลัพธ์ทางหน้าจอเป็นอย่างไร"
      ],
      "metadata": {
        "id": "HCh2sJ_ktHwV"
      }
    },
    {
      "cell_type": "markdown",
      "source": [
        "![image.png](data:image/png;base64,iVBORw0KGgoAAAANSUhEUgAAArwAAAFaCAYAAAD8T45BAAAAAXNSR0IArs4c6QAAAARnQU1BAACxjwv8YQUAAAAJcEhZcwAADsMAAA7DAcdvqGQAAGjnSURBVHhe7d0HfBPl/wfwT1Y3UEYHlFGGLWVYoCwpZakooEBBUZYMRRF/Ksrwz1YcjJ8CAj8UZQkCCshesveWgmXvDS2jhbZ0Jfn+79IE0tKWliE1fN6+HmkuT+4ulyd3nzx57qK5cuWKJCcnIykpCdPPxGJfnAl9aj6D+iWKIC86dO0W+m86hFLuevSuVAwebq5wcnKCXq+HTqeDVquFRqOxFCIiIiIircFgsARGtbxRPB/8nLUYs+cETsTEW6vkLRWK5EfboOI4GZ+KJWevw2g0WorZbIaIWIrK9i8RERERPd3uBF5nZ2d4uLqgc0kPOGuAL7cdQWxSqrVa3nEqNgErTkdZ/i6qrGhKSgpSU1MtoddkMt0JvkREREREKq06FEANvbbg6+3ugo5+rohNTsU3O47CqATIvGLT+WvovT4SickpeKeYE8q76e708NrCroqBl4iIiIhs7gRe27AGtac3sKA7Wng749D1OEzcd8Za9ckxKwF22oGzGLnrODw1JnQqZIKf3nxP2LUVFUMvEREREam06kleaskYfOt6e6BWAb1l+MDKU2lDCJ6E26lGDN12BPOOXsIz+lS84ZGEfNq0sbq2gKv+nbGobP8SERER0dNLq17NQA286hUO7EOv2tPbys8D/i5a/LDvFA5eu2V9yD/nYlwiPlkXib+uxOI5QxKauiXDSXf3KgwZr8aQ8TYRERERUZaBVy1uLi7oVNIDHjoNvtl+FNduJ1sf9vj9dSVGCbt/42pCIpo5J6CGS6plPW3ral9s0zOGXYZfIiIiItKYzWbL9/624QG2cbHq1Q/Ua/OqpVy5cpbKRERERER5VVbDWTXKHSrLDTXwqieAqUW91JcaetUfpShevDh+3RaB2ZcS0aBEEfSu+Yyl/qOWrCx37F+nsPH8NZTSpqKxy2246dN6cdXeZ7XYhlvYiouLy50eafV+W48vhzcQERE9Xupx1pYhiJ607NqjVv2fLRiq/9qGCdgCpjrEQVWziDvqFTRggxJG5x+7ZJn2KKnDJfpuOGAJu1X1SXglQ9i1H1tsK7aQy6BLRERERFmxBF6VLSjaQq99yFSpAfPVYh4IcNNhauRZy4lkj4r6c8Efr/0bZ2MT0NgpAXVdUpRl3w3ctp5cV1dXS1H/Vost9Kp1bIFXLSqGXiIiIiJS3Qm8KvvQqwZHW++pSg2WLkrA7FgyHwoZNBix8xguxSda7nsYf56OQr9NB2FKTUErl3iUdzbfE7jVYuvVtRVb0LUPu7aQy7BLRERERDbpAq/KPvDaQq/K1tNawNUZXUq4w2Q2WX5++HaqyXJ/bpnMggkRpzBu7yl4a4xo4xqPok5pvcu2IGvrybX16tr+tQ+86vrZ1tW27kRPBVMMTu7ehj2nb8LycyvJCbhttNxDRPTvYb6Kld+8hy8WX1L2ZQk4tucArj+WH3m9iQ3ffYBv19+03qanyT2B18Y+9KrUcGnrbS2R3w1vFnXFhbgkfLf7eK4HrN9MTkX/zQex/FQUKuqT0dIlAfn0dy+NZt+jawu4mQVd9uzSU+v2TnzVoBwCa4WiZkBZVG8/FN9/2gAlXxiFEw/2GZSI6MnQ5ofu3J+YuvwgYjd/gdZ1n0P4qCN4dLsyE65HLsG4j8Px1sijMPh6WKfT0yTTwGvrKVXDpBoqVbZeV1vorFLYHS8UdsLOyzGYeei8pU5OnIpNQM+1f+PwtTjUMySgkUsynPR3hzDYgq4t5NpKdmHXVoieFvErxuH7PT7oOGERFkzqhRrXfsM3s27ipXdaoXTaWzYLRty+eRPxyY+l+4SI6AEYUKlyOcSeXYmvev6Io+ZEnDl5Qdlb5Yw5OR43b97Oor4JR38Kx7MhLTFwezDGbluMj4Oy3UmSg8qyh9fG1sNrP9TAFj6bFMuHSh46/HbkIrZdvG6pl50tF66j9/pIxCclo4VLPIKdTenma+vZVQNuVien2Ydd+8BL9DQxFQ1Dpzf9sXfYpxi1rTC6/X4AUTHHMLODP7Ldld+ei7eKe6HByMPWCURET5oWBUuUgMva/2FBue54s9R9o4kdE478tyG8/Dpizm3rJHumo5g7JRJV+nyOlxP34yScrXfQ0ybHrcrW22sfTtXStrgHfJ20GLX7BM7cTLDWTk8d8jD94DkM33kM+ZXPYK8730IJg1jCq63Yh11byLUF3czCLkMuPc0K1HkP305djr27fkDw9o/R/P25iGanLRH9SxkqvIDXWn6M70e9iiK5ybv3oykAH28DEq5dQ5y4wFXP7PC0yrZZ2fee2gKvLfTawml+N1d0KemuzEjw5bajiEtJtdS3UU9q+3L7Ucw5chHldClo7RIPT0PayXD281GLfa+uWmyB1xZ2M/bqMvTS007nUx+vP18C13ZswoH0bz0ion8NXbn2GD9nBJp7PeLjutYPXX/+BW8HlECbiVPwXo57j004PfsDvFQ3FKGhddGo359Itt6TeymIPnkaN57I+RWPYdkp0Th5+sYjHGP9z8jx5yhbwLT1yNoCqxpIfT1c0b6YC67eTsbwHcdgsp7Epl627NP1f2P35RjUNiShqVsyXOzG69oerxZbwM2uV1ctKgZdorss7weTOe1KDRYmRO+Zh59/noudV+4/Cu7mkZWYNn4cJs5chm0Hz+Dk1iVYGnFFuceEs2t+wqif1+Kcdc9mOrcWP4/6CWvOZtzVGRG9fxmm/zAWYyfOxIq/ozOMp7uJIyunYfy4iZi5bBsOnjmJrUuWIsK6finnt2DWT1OwJDIm3fM4tmw8Rv2ylb3XRE8z40VsmTEO42ZsxvkU67T7STiDbQunYcL33+PH5VdQtvX76Bzqm/2Qr3QECVGncOxoJHZv34btR64+cMAzRnyFxkEV0HLMyX88JD76ZRsR8VVjBFVoiTEn/+ln83By9cWBLXRmHNqghtSKhTzQzNsZ+6/ewuS/z2BvVCw+WRuJaCX0vuJ6G7VcjXceZwu06uPUXl37Yt+zax92bYGbYZcoe8lb+uP5lz/D5Mn90aTex1gdZ70jE0k7h+DFmk3R5cOP0L3DKwitVBrlwl7DZ7NPKvcacWL+1/i/YQtx0ppejScXYtj/fY35J+zirOk8FvynFgKrvYpOPT7Gx907oFnVQNT8cCEuWoJqEnYOeRE1m3bBhx91R4dXQlGpdDmEvfYZZqs7zJjFeL9+a3wz80f8p+FL+CrCNu9URM4ajP8btdI6HyJ6+tzG+l7P443vN2DDuDfQ8MMViFM+Fl+a+iYqhP+A0/dkLjOub/gCzwcGIqx9X4z66Wd83/8t1AsMQKNBaxCV432JHpV6rsAJZX8aknZ11gdmirqCa2YjrkY9eGh+UI9+2SZEXbkGs/Eqoq46aOC1D5pZBd+GPh4Iya/H4hNXMHjLYTiJEe3yJaOcc9pJb/a9wmqotYXbzIYvqPXtwy4R5YQZ0X/tRsyLw7Bi+VC8cHMrNh1L39d6VzxWjP8BEW5N8O32C7hyag9W/T4FP89cg+Vfhlrr3I+yvDm98N5PUag1aB72nr2Ga6e3YmLHojjyw38weHm8spgVGP9DBNyafIvtF67g1J5V+H3Kz5i5Zjm+DHWG8cxuRDi9gfHLF6BP8BFs2HzZrpeXiJ5q5hgcOBiPur1/xI89QxG3cxuOJV/BkjkrcWL171ho+/rJJmkjvnjna+x7pj/Wn7qEEwcP4NjFS9g7qjqOjHgXX27MZmBC8nls/HkQ3n2jOZq1bId3+43HyjOJuOfCq6briFw6GSM+exdtWzTBS01aol2PoZi553r6fZey7hFzx2HU/EgkiCBmz0z8d9gwDFPK8OHf4scVx5BkrWq6Homlk0fgs3fbokWTl9BEWX6PoTOx50EvSJzjZd/G0eU/4tvhw5XpIzH+j/2IVZ7F1V2z8f1IddoIjJqyEeeVzWyOicDccaMwPzIBIjHYM/O/lvkNG6bU+/ZHrDhmezZ5lOSAfTWz2Swmk0lSU1MlKSlJ4uPj5caNG3L58mU5c+aMHDh0WPqs2CmfLNsuazdvlU2bNsnGjRtl8+bNsn37dtm9e7fs27dPDh8+LCdPnpSLFy9KdHS0xMTEWOaVmJgoKSkpYjQaLctRl0dEWUmWzZ8EiKFEd1mdlDbFePxnaennKm5uTqIxVJJ+u1LT7lAlzJLWHgYJGXpArShjmxSVfE5a0WhdxDuogbzZa5ysOWOdkSTJmvdLiqH0f2SddVLSuv9IaUNJeX+NrY6y/CENpUwhd/Gq1kWmHU5OmxwzS17zNEhQ3x3KYsZKk6L5xEmrEa2LtwQ1eFN6jVsjdxezR4bX9xL3fB5i0DhJvVGnxWS5I1HmtSsohmcHyl67p0BEeUcOY0TOJW+WTwIMUqL7amUPpDLJhXnvSWVlH+PmpBFDpX6y8+xEaVqqlXR/o7Q0HH1cIr+sLgb3VjJTSXYSs0tmfve9LNx7UJZPGCw93+sm7/cZJr+u/Eaed3KS58dfssw1I9O1tTIgtIjoNEq+1ejFyUkvGuVvjVYrWo1GXFrOEHX2qoQ5b4qnWk957hqds7gr+1r1cRrXivLJ2lhrLUXMDAnPr7HUy6zoy34kGyy7zASZ86anaCzTNaJzVp+rTrmtEdeKn4j9LHMsp8tOWis9SunuTNfkC5dfY87J2IbO1vVRphlqyJcHjMoswyW/9XnfW/RS9qMNyhHhyVLXJSu5GtKgsg0rsPXwqkXtmbUVd1cXdPXPj87F3Sy/ymbfg2v7O7PhC7be3Yw9u+zdJcodXbl3MO/gYWz65iUUsE7LlK4cPlx+CbcSE3D11B4sHvseAg9+g1dafIU9WXUK38MJdfuPw6e1CiBV4wnv/NYRcq5eKJIPSE5MVBbzIZZfuoXEhKs4tWcxxr4XiIPfvIIWX+1JG+frHILP1hzB/hW9UNtgeTQRkZUWfq1/xN+Xz2Fyq0LKbcG1ZYsQWaM1+rWujeOLF6cf8uRZA+26VMTWt2vj1T7TsO3MFZzb+Ss+bT0Em1IBszmTHlPzVSzo+RaGb4tH2dajse5MLBITY3Bs0SA08FISnhqj7Lg8/wm+H/Etpizbi/M3byM+IQ5nf++IEimHMevXTXd6beHZDlP27sS6US3grdXBv/2PWLN+PdYrZcOGzdi9/hvUd1IruuD5T77HiG+nYNne87h5Ox4JcWfxe8cSSDk8C79ueoCe05wu27kRRm5cje9alYWLkrf0Pm6QM5cA98LKltcif5VumLR1MfpW1CmznIK9O9dhVAtvaHX+aP/jGsv81q/fgA2bd2P9N/WVI0LelevAa5Mx9NoPVbAvaqjNrNjuVx9nG8agzs9+CAPDLtGD0RUohYqlPHN2gobWBYVLVUStF17DKyFFYDp/GudzHHgB48Hf8NOa22jcZyiaFMt6iVqXwihVsRZeeO0VhBQx4fzp83dPbNMXQtkKxeHBtzwRZcbJDS7qB2K5gVWL9yPklRdR/PmmqHF4CZZH2SdSM6LmfYcJB/zRa/VB7Fy5GEs3/o3Df7yd9Y/yxCzD9EWXoAn8AFNn9ERD9cpTWg+Ue/VzzB7ZHAUzJCVt/hIo5XoaC794E7VKFYZnwRKo3ftPXDMLbsffthvWoIVn2RqoE+QNg5JnXIoFI6xBAzRQSv36dVGlhPudevlLlILr6YX44s1aKFXYEwVL1EbvP6/BLEqgvv0gwxpyumwl25ZqiE/nbMbiAfVR6MwsdAqpg4+XXUeJFt9i1fof0bWGb1qQ1XqibI06CPI2KPnMBcWCwyzza9CgPurXrQK7WeZJDxR47QOpLfSqgdUWeG09uG5ubpaS8W/70GsLvLZeXVvgZdglyoWUS9i/7RCu5iKoZhR3ehcizmRyLe2ki9i37TCu35l3Ci7t34bD1gnm5GRlijPc3XJyZkccTu+KQMbFJJ1cjBH9ZiLyIdafiBxHatRh7D0Ze++JVqa92LSvCpq+VFjJXy+gSbUD2LLb/tINZly9HI0UvTuSTmxGpGUMrBL+qgbDP4vEY7p6CVFJSqYOqoYqLtaJFloUrlYlfVA2n8fvXcPQ+KMJWHooAYXLV0ONquVQRJea4co0OWc+/zu6hjXGRxOW4lBCYZSvVgNVyxWBLvUf3CHqfFDlxQYI8tSk9YLrvBH8Qj2U93zgftE856F6eG3/2odeW0+vfW+ufchViy3oqvVtPbu2kMugS5R7cm09/ts2FFVa/IAjuT5x1ozohd1QvVpzDF5x8Z4DjPnqWox4sw6CW/+EE+qxQ65h/cg3USf4Nfx8IhcLM0djYbfqqNZ8MFZctHtc8lYMat4Fs64FIuQZPbZ9/gJefO97rDv/4Fe9JKJ/t6QjCzCg5XN4fdIJu32SkhGunkXUs03R1FuJL1pvvPRyMC6cuQydXXSwDEHQXcffv/ZHk9APsSI2bXpWdEXLwT+fBsl/rcbqq/a9qSk4vmo9jtvlTuP+nzHst1PQVvkEfx47g/1b1mL1uq1YP6n9fX7WXdkFZhxOkXAeR85cQ8TPw/DbKS2qfPInjp3Zjy1rV2Pd1vWY1L509t/SmeNwNvIAzsdbb2cj82Wrp6dZbiBycifUa/oFNiYG4M2BvdHY9woWf/wCGvWYgxOZ7orNyjytf1olnD+CM7EZJuYhDxXdbQHVFngzDm2wD7m20Gsbq2sLvLaeXYZdogej0+vg1XYaThydiLC9f2CN9aK1mgIFkF9OYemEn7Biz1GcOLgZvw2fhu2JWuT3zG+pkyYF2xcsh2evTTi9oR+qOivvR8t0DfQGZxR9ayZOHv4eNbbNx/p45T3u0xG/njyC8bW2Yf66G5aaOZKyHQuWe6LXptPY0K8qnLVpSzHHRmL/+Yro9O33+KptEJx9S8Cw+XM0qfY8Ru1j6CV6uqidZ15oMWwJFn9eDTt//zPddbhNMfEIaNIURS3pRQu/Ji/hmbgbSLkzqkEDNzdXeDTqjz8WjMSrqVuxxf4yipkp8Ao+6h4M5/PT0TGsOf4zdDTGjx2B/p0a4oV+G3FLmbdx9zh0eGc0tqW4wVVZtjF6LxZMHo/vRw7C++HVUaHp/3BUWUzS9jHo8O547LK7HKTOzw++WhPOLByGQf8dpzzmc/Tu/CLKlyiLilW6YY3GVXkmRkTvXYDJ47/HyEHvI7x6BTT931FlahK2j+mAd8fvss7NJgWbP6uJwOBnEdToS9y5mmMG2S+7K349shJfvR6K+u/OxJEEDbzrfYwhQ77EV+/VQD7EYu+P7VG3bgd8u+G6bY7w8/OF1nQGC4cNwn/HKev7eW90frE8SpStiCpdZymPyqOsJ69lK7tq6lUU1KJeUUG9soJ6hQX16g23b9+WuLi4O0W9AoM6Tb0KQ3JycrqrMKiFiB5M3JqPJahgcalcyU+8an9194oGSX/LuFdLiLP9WbUarRSo8pEsuZJ2HYQ0Jjk7LVz8igRI1WeKiF+raXLWenfsih4SULCkBKvzrjtc9l1fJR+WLyQlgyuJn3eYjPg7VZK395HyBh/psjgx7UGqpNXSvYRByny43jpBYTor08L9pEhAVXmmiJ+0mnY27WoMxpPycws/KVzuWSntWVRaTDolRlO0bBvbTirm1/IqDUR5WA5jRC7EyZqPy0u+wv5SqlBBqf3VXkl7+yfKgo6FResUKiOPGy1TLFIPyNAQg2hsV2lQmC4ukk/rBUq5ZwKkesfJcjBZmRb1gzR2cpKGYy+kVcoo9awsHdBEynpo716dwNVfGr/dQgIN6m2NaAs3k4mnYmXXmHAp62a7AoJGDEWqSJse4RKgT7ut8wqXaRft9rHK/mz1gDDxMdhdNUFjkEIBjeSdcVvl2s1dMia8rLjZ9tXKfUWqtJEe4QGit9zWiVf4NOvMbJJkTQ9/0Ws04lSpn+zI6vII91n2pe1DpEZ+9YoQ6nStuAV8JKvir8js9sXFWZv2GI2+oDQYGWmdoTrL1TIgzEcMdscWjaGQBDR6R8ZtvWa9ys6Toa5LVjTq/5QK2VJ7Xu9XTb3fVtSuc/vbKltPsIpDGIgeJTNuHFiFNYedUeXlhgjIZ51scRsX/9qK7Ycv4JbJBYXLVEPYc4EodM9w22Sc37EcW68UQ1jTWvC7c6qtGdcj/8TaIy6o1qQhynkoU24cwJ9rjsC12stooE7IjeTz2LF8K64UC0PTWn53z+hNuYRdKzbjctEwNKlZLE+f6UtEd+UkH+Sa+QYOrFqDw85V8HLDAKTbpT1m5vhz2P/XQVxK9EDparVQwTvzvZHx+hHs2nMSN11LomrNyvBNN/Y3c0mXI7F7/1nEIj9KBAWjcqkCdkMWjLh+ZBf2nLwJ15JVUbOyL+47S2W/GbHlKPSV6qGyd/bjKbJf9oNIwuXI3dh/NhbIXwJBwZVRqsDDzfFRyK49PrLAq7LVUf+1FXu2gKsWG/u/iYiI6N8jp/mA6J+QXXt8pIHXxlY342Ns4ZYhl4iI6N+PgZfykuza40OdtJYVdYHZFSIiIiKif8pjCbw2DLpERERE9KQ91sBLRERERPSkMfASERERkUNj4CUiIiIih8bAS0REREQOjYGXiIiIiBwaAy8REREROTQGXiIiIiJyaAy8REREROTQGHiJiIiIyKEx8BIRERGRQ2PgJSIiIiKHphGF9e8saTQa619ERERERHlTVrE2x4E3B9WIiIjoKcJ8QHlJdu2RQxqIiIiIyKEx8BIRERGRQ2PgJSIiIiKH9pgDbzwOLxiGD95oikYNGuLFV9uga8+vMCsixno/PRBzFP4c2hates3DOZN12sMwncbsD15C3dBQhNZthH5/JlvvyL2U6JM4feNRrFTuPY5lP8nn82SYcXFhX7RsPQBLL5mt04iI/iHmS1jUpxnC6irHo9AG+HDeVWWvRPTwHmPgNeHExDdQ/7X++GH+Buzdvxsbl83D1O8H4+3+86x1KPfMuDy3J94e+jv+3H4ccZmMzTYdGolGPoVQ2K8tZsVaJ2ZHEhB16hiORu7G9m3bceTqAwY8YwS+ahyECi3H4OQ/nREfx7JzNU8TDo1sBJ9CheHXdhZystnv7zHM03QIIxv5oFBhP7TNtHEI4k7swJoFw9Htw5k4zyMNEf2TJBFXTx/Hsci/LMejg5dTrHcQPZzHF3hNpzF/+mpccwnDN/uuITYmHnGX92LJpLGY/EVrayXKtYSNGDZoHi5pA/Hu8I9QUW+dbkfn54N88bG4qSsAL1frxOzoK6HnihPY0j8Emcwu50xRuHLNDOPVKDxoZn5gj2PZuZqnDn4++RAfexO6Al7IyWa/v8cwT50ffPLFI/amDgUybRw6lO8xDD0q6hC1+HMMWxtnnU5E9A/QlcU7847hwMgGcLJOInoUHsNlyZJxasUUzN17FGsmjMfauGro0jcc5XTKXRotClZpgy4vl4ZzWuUcSb56AkfO3URqFuug0TijUJkglC6Y+7iWdG4Lfp82G6v3ncVNbWGUq9EU7Tu3RnUfPVLOrsHU3/fghkmgK94Ar1c6g18nLsDOc0nwKFkVjTu+hw6hxdK/KU3R2DN3CmYs24nj14xwL1YBoa90QKcWlVHQ8vHCjOs7Z2Ha+vNI0RRB5Rr5sX/ufGw/kwDX4iFo0f1jtAsplMUnETOuTA1H0DtLgaYTcWDRO/DLrGLKRnxc4QX8UGQo/t7aD+XVbZ9B8vmNmP7TTKzZfxHJHn4IqtMCDa5+iVe/3I9m069jQQc3pZYJ1yNXYOHyzdi57wjO30iBc+HSqNasKz5oWx2F7yzbjJiIP/DrytWYNXIydjvXx/sfvohi6v1K2zF4BqN55yYIcFHr5nSeOZXzZd8+uhzTl/yNWKPySc/jGbzUoTUqp+7C77M24GyiGRonb9R+vRPql9Dk4vnclbLxY1R44QcUGfo3tvYrr0THh5ftPM0x+GvONKw+nQSBBh7Br+Pt4IuYOWEaVkTeQpFaHdCrZ0sEulvrW6Rg48cV8MIPRTD0763ol1njUNvZL61RsesiGBtPwIFl3VEi168LET0NcntZMtP1SKxYuBybd+7DkfM3kOJcGKWrNUPXD9qiut0B4OrEl1Gi+3o8982f+MRtBRZvP4LLia4oUfVlvPVeB9QpmuF4b4zG7jmTMGPlHpyMToTesyQq12uEyq6J8H6+IxqWfBR7ZMrrsm2PauC9nxxWS5O6RwY8axCN+t3oPUUjhiqDJUJJrjmWtEZ6lNJlMi/7osy3Uj/rA3IqVU7PeU+CC2iVddWI1uAiLoa0v/VFakufZeflwNc1xUnZduoytJ4+4u2iEY1GL05OeuVfiEbvLQ2+2ChKILYwRa+VwQ18xaA+RqMVg5NBtJa/DeLXdLREJKi1YmV6S4+07aPU0Wk1yr86cXJxEp06T48QGbjVUvFepiiZ/Eo+0WgLyeuzb1gnZsJ0RkbXdxKPVjMlzjrpLpNcWztAQovoLOug0TuJk155Xuo20CrPX+MiLWdYl58wR970VNbPsq46cXZ3Eyedur6uUvGTtcozsYmRGeH5055TZkVfVj7akJxWNcfzzKmcLjtJ1vYoJcouL226Jp+E/xoj58Y2FGfra6y+TjW+PJCLeaZnOjNa6jt5SKuZ9271B5XtPBPm3t2WyuvnERAiFT2V11WjtGG92kZ14tt+nrWyjUnOjK4vTh6tJNvVvDVP2nkp7cGtsfxw0drAiYgyUPc/OZcgc970tO5bNaJzdhc3J/VYpBHXip/IWrsDQPSPL4mz7bik1NfonMTZdoz2bShfbYmx1lTc2iEjXixmOfaqx2hnN+txxbIcvQT02ir37rHJEWXXHh994FUknN0rG9dOls7P6EVbsKkMX71e1q9XyoaNEnEu0Vorp2IlYvYIGTxwoAwYMCDTMnDgEPlu/kFr/ZwxHv1envfUKkE2RLpP2y1R6rsh8aJs+aGjVHBX3mTerWT6qXOyb9VACXNS3jRqeHj+c1l+Mk6JDIlybuNoaV3WSXkTlpDOC64pOeKKzH6jqBJa9VL0hUGy6HCsGJX/bkTOlb71vJTg6yxVBuxUYpey7Oj98l3TgqJV3rguAe3lpz3XlZpJcmZWOymh04pPl8XKEjKRtFLeLa6Ef6cGMuZsdiEkURa+5SsBn2y+501uip4nHfyUHYxLgLw2ep2cjTeJKe64LB7UUHwswdMu8Jquy85fRsq3U5bJ3gvxyvMWSb4wRzqW1InWp4sstltJU8wJ2bVulLTwVkK8f3v5cY3tNd8gmyPOSby1Xm7mmVM5Xnb8GVn3XSspq35wMZST9jMiZMfYV6SYTvlAk7+KdJu8Sy5bN1iO52kvcaG85Rsgn2x+hLvWbOdpkhtHtsnaH9uLv/Ic1AOI3qu2vD9pp0TF/i2T3msu7cfusda9K3HhW+Ib8Ilku5qmy/K/552VD1e+0nXJA7woRPRUyF0+MMn1nb/IyG+nyLK9F0Q5/KgHAJnTsaTotD7Sxe4AkBZ41U4ZP3lh8CI5HJOq7LzOyYZRraSMk7KvK/2uLLdk3gTZ9Gl5JewapOQrw2SV5RitLCnutMzvFiB65dhdsvtqy7GXHN8/HngtUvfKwGcNSnDsJIse8niZGnNOjhw8KAcOHMi0HDx4XC7FZRcAM0qV/UOqKW8QD2n4/UklbNpLln2D1ftclPvOisRNk+bOSiDyfl1mRaVfxq2V3aW0EhILtJopcn2qvOqhBCmnQHl9yHcyatSoO+W7AS2ktEH5NFv8PVlledclyqJO3qLVl5UP19/dOKZzY6ShEq6dX5kit6zT0omfIS1dlWXkbyO/ZdEJbJNwcqfsOXdvork2tbnkU0J5eeUTb7qXRQnsv4QXUoK5XeBVttOlDePkg+Y1JcCvsHgW8BTv4iXF201Zh3yv37sOSSukmxKm9eX7yPYsw1Qu55lTOVq2yiiXlA8xDXz0SphTPvBoNOLs30JG7Yix7CTTyfE8bRLk5M49kslmfwj3n2fy9j5SXq98eKrYTeaezMFuPeGk7Nxz7j49HonyR3ulPcBZmk3Ofb87ET0dcpsPUi9tkHEfNJeaAX5S2LOAeHoXl5LebqLR5JPX7Q4AaYFXJ0U7zJPr1mlp4mRV99JKQC4kb86JU/bTq+V9tcPEt73My/DFZ+rfX0oNFxep9fUB5chDT4Ps2mPeH5mXvB6fhJRBUMWKqFSpUqalYsUA+NcdYn1ATphw8WIUzDpfPFuleIaxlk4IrFoRBTRGXLl42ToN0PkGonyh9JvLvUIQ/HWCxJhrMN+Kwc0U5QNEylHM/aIXPv300zul19eLcDpVYLp6DmdvWx9s4QJ3t8xfgkxPjte4wEUd/JyahKTUtElZcStTEyElMg75N+HqpSgkKc8xqFoVZel2tIVRrUppu21hxvnfuyKs8UeYsPQQEgqXR7UaVVGuiA6pRmuVXHsc88wtHXyqvIgGQZ7QmM3KGungHfwC6pX3fARncLqhTM0Q3LPZH0pO56mBZ60WeKVMDkbHu5VBzZAS9zkhxIjE2ylQPsHBxfWhTmUkIrIwn/8dXcMa46MJS3EooTDKV6uBquWKQJflAUCLslWqoYD1VhoPhFQLhN4cj6hLMcqu6jIuX1X25P5KRshvrWKlr9wfa8+cxurPKj7cCdnkEPJ+4DVUQcfBg9C3d2/06tUr09K792cY0u916wNywoAKweXhbDqDxZOX4KL9GfgpJ/DrtNWIQT5UePYZ60QlYx6cgiE/7ke89TaST2LOwPHYkmpAuZq1oPWthAq+Omjcq6HH1KVYvnz5vWXRULyU7gSiXHJSQncZPST1GA4cepBLtehQtJw/8mmS8dfq1VD2EXelHMeq9ceVmGNl3I+fh/2GU9oq+OTPYzizfwvWrl6HresnoX3p+wz+twRJewk4f+QMYlMedJ5mxJ2NxIHzd7Z+1rJatnViQuRkdKrXFF9sTETAmwPRu7Evriz+GC806oE5J7K4/vB95pl7JpxdPhqDBw7CkJ+2WKflMcYjOHQ8GaIvjaCA3JxiSkSUGSP2/zwMv53Sosonf+LYmf3YsnY11m1dj0nt7Ttb7JlwcO2q9NebN1/Gn2v2w6gtDP+yhZXDuT/8/XQwHdmANWfuDc5Jp1dh2rz94PVm6NEPaUj6Wyb/53UJb/m8VPDUisbZX0JbhEt4uFraSt85GYcQPCGx66RXZVfRaJzEr25n6T/yexkzrI+0reEjBo1W8tceKrvU7/ytQxrUbaCOby0a3FCavfKCVC/pIVq1XrXesuqa+mW4UY7872Xx0mrE2S9UOvT5WkaPHy+jhw+Snl1aSv3K/lIypK+si7sgC/q3kVB/dXxkASn//FsycmOMmK5vlJHtQsRbB9EVqyVdx+20rGZ6ybK1d6DoYZDK/Xc/2Fc0CVulf1U3Zdn5JLDZB/LFqHHy/fB+8ladYmkn6Gn04lczXN7+9lcZXFtZR72fNOjxpYweM0IGdm8pIUWVacq20BiKS+3wbjJup93gi9S/5fMQg2icysorfUfKWOUxQ3p1khcCC4pBea7hv+yQYbmdpyJ5U28p76wRjXsNGbo3i2d932UflhVfvibBBdNOgND6NJEfDqdK4u4vpU5+rfL6akTvU13a/3e9dYaK+81zht1JE7lhOiNjGroor4GnNPnxtHVi7iVETJT3XwuXlg0DpYDS7lxK15UWlveZUtr3l/lnHvydlrpvsFQ1KNvkmZ6yiYPfiCgLOc8HRjk0rLY4q8eYBj3ky9FjZMTA7tIypGjaicMagxSvHS7dvl8p64d3kebKdCUEW467JRu+LYP+O1bGfTtEujcuJ+7qsfe5r2WvZd+kzHdMIyloOfY+J+0+HSrfjh0v40Z9LZ+9FSp+Tuo5OQ8/tJL+HbJrj48+8MbMl85+WVylQWm45XttzDNnSxovrJQvXwsWL+UNkbaOyhvD1U9qdxojW6KtIzqtgddQqaMM6dlCQkp7iYebp/iVryvths6XQ/bZzBQjuyZ0lZq+aQHu7vPWinPhQGnYfYYcToyQr2rnu3O/RldEmk86K8nHx8uLygeEtPo68QqfZp1pesaDw6WOm0Z0fh3lj2vWibmUenapDGhSVjzUK0RY1kMjrv6N5e0WgWKwrm/hZhMlcvsYCS+rhGPbuhqKSJU2PSQ8QG9ddy8Jn3bROleVSaJXD5AwH/vXXyOGQgHS6J1xslX5YBC3K7fzVD5Drekh/uqVJJwqSb8dWbWe+yz70nYZUiO/5UoYltfZLUA+WhUvV2a3l+LOaSFYDfsFG4y0zk91/+fzIEzRk+XVfMp8KvaVbQ+8E1bW7be2UlTZLmnrlb5o3J6V/tse9J0WI4vfLqlsK2epPnQ/x74RUZbU/U2Oxe2SMeFlxc3uyjhFqrSRHuEBorfcVo59Lb+R0Q091fGWSh2dlKjRQAILpF1VyLJv0xWQgBZDZfUluw/0pmuydXR7qeblZLevVudnEM/AZjJg0Wnux54S2bXHx3Ad3n+flKtHsTfyNGK1hREQXA1lCtp9uRL/C1oU6YwV1Ufi8MY+KHufb/MtjDdwYu8+HI++DY1bIRQtHYjAUoXh8kgGkNzEyu4hePWn8wj8dA12fBsGD+s9uWNG/Ln9+OvgJSR6lEa1WhXgndmgTuN1HNm1BydvuqJk1Zqo7Jvh4rOZSbqMyN37cTYWyF8iCMGVS6GA/XbL9TxTcCliC47qK6FeZe8svvqyut+yH8Qjnmfc3LYo3W4dGk7bj9/b++a5cUW3t/dDnYYjcMCnM+ZHTEHzQtY7iIgyyH0+MOL6kV3Yc/ImXEtWRc3KvunPJ8mE6eZ5HDxwBBfiXVC8UjVU8nPPfL+Zch0n9kfi+JVbMBkKwLdcJVQuVzhX1/2nf7fs2iMDbzbMNyKwZP5EfNljIvaXbothnzVGMf+6aNWo3H3foI+TOWohutVpg+m6D7DuwGiEPdKTpOjxSsLKd5/Ba/u6Yeu2wQjOc2dSpGBH32CEjb6NN2Zux/Q2xf4FA/2J6El5WvMB5U0MvA/EiANDa6PakL9gf0EEjUdrzIyah7bqD5E9QcarJ3A8tRiCij3hFaFcisOaz/+DHfW/x8CGntZpeUzSZRy75IwyZQrxzGYiyhYDL+UlDLwPyBx7EKtXRVp+WjiNBs4laqNZXX9+RUJERE89Bl7KSxh4iYiI6JFjPqC8JLv2yOF5REREROTQGHiJiIiIyKEx8BIRERGRQ+MYXiIiInogD5sPTKdn46Pu/8O+eIHGuR4GrRiGlx7irPD4wwswbvxv2Hw4Com6fPAqURbPvtAJH7xZFQXZxefwsmuPDLxERET0QB42HxgPjMGrr36NrRevI17XAtOvL0CHB7zapunERDSv0wPLr2nhmt8D2ts3cTtVWTeXlzHxwgp0K2ytSA6LgZeIKK+6obH+8YQU4r6dHtwjyQemoxhetzL672v2EIHXhBMj66HC/+1D7W92YeX/VYRbchT2rV6KLbcqo92bNVGIPbwOL7v2+C97+VMQffI0bpisN/Oy+MNYMOwDvNG0ERo0fBGvtumKnl/NQkSM2Vrh38iE07M/wEt1QxEaWheN+v2JZOs95kuL0KdZGOqGqvcppV57TDhktN6bCWMkxrWth9Cw5vhmW4p14pNgRtSfQ9G2VS/MO2fXsMwXsbBvS7QesBSXHvlLFo/DC4bhgzeaolGDhnjx1Tbo2vMrzIqIsd7/L2U6jdkfvJTWBuo2Qr8/ra3DfAmL+jRDmKXdqKUe2k84hGxah9I8xqFtvVCENf8GT7J5mKP+xNC2rdBr3jml9d9lvrgQfVu2xoCll5QW9OQcXgp80BVo9CrwYluga39g1t/WO/+tsmhHud7HKC0sclxb1AsNQ/NvtilHjycli32MMv3iwr5o2XoAlj76nUwelozzG3/GoHffQPNmLdHu3X4Yv/IMEjPLKKZo7PltOD7uGI6mTV7F629/hjELIpHxMJp8agV+GDEc41efUbaqDknHF+D7YcMwbNRU/HnBD81aM+ySQu3hvZ8cVnvsUvcOkmCDi4R9e0KM1ml5kvG4/NjUS7TQiN61gHi6G0T90AGNi7z80zVrpX+jVIkc/bL4F8knBo1GXFrOkATrPcYTP0vrZ3zE28tLPF11otEHSd8dydZ7M5G8UwbXLipePhXl49VJ1on/PNOl3+RNP2V93Z6Tbw6kWqcqjIflv2HuotH6Sqvp58RknZyt1HOyec582RWVXW2jHP+xqXhpoWwjVyng6W7ZluqXLS4v/2St8y+VGimjX/aXIvnU9u4iLWdYW4fxhPzc+hnx8fYSL09X0Wn0EtR3h2TTOpTmMVhqF/USn4ofyxNrHqZL8tubfsr6uslz3xxQWv9dxsP/lTB3jWh9W8n0czlpHalybvMcmb8r6t62dF3Zvz5AOf4dxEvZr2h0kAL5IQZlP63uq10aZV4/y5LXZNGOcr2PUVrYzsG1paiXj1T8eLU8uWaUxT5G2Rcc/m+YuGu04ttquuSoGeVBucoHpmuydkCoFNGl7fP0Tk6iV/d/yjbQajWicWkptt2GKXqtDG7gq+wf1WOnVgxOBtFa/jaIX9PREmE7+CjvrT0Dnk2rZ30P2BeNoYoMjrDf7uTI1Nc8KzlqqdnN4J+UtKKb+On0Ur7P9mwPlk+a8fgIqWPQiFvYMDlgeVMmyZWIJTJp3EzZef1fulezYzwyTGorz88+8N6VKIu7+Ij2vgejvCBe1n34jLLDNUj5nhuVW+klbOkjlZTnqS/zvqy6ZZ2YjaQ170tJnUGqDdmfLhylo3wYGlFHOZC7hcmwtMYhSVciZMmkcTJz53XL7X83oxwZVls5+NgFXjuJi7uIj/b+gTcviF/3oTyj14ihfE/ZmLFxKC1/S59KyvPUS5n3V8l9m0fSGnm/pE4M1YbI/oyNI2MAzUmJhoyooRzMXSHDtqZNSzoMWTIGMnNVhrr3K3lSdu3IcfYxyk5G+lRS9gf6MvJ+TnYyeVDO84FJoud1UI7hyrEj4DUZve6sxJtMEnd8sQxq6KN8sFTasy3wmq7I7DeKWj4cF31hkCw6HKu0CKPciJwrfet5KcHXWaoM2Hn3Q0zCWdm7ca1M7qxsa21BaTp8taxfv14pG2RjxDmlxdDTIrv2+NjG8Cad24Lfp83G6n1ncVNbGOVqNEX7zq1R3Uf9dX4Trmyejhlbr8AoWng99xa6NiiKpKNLMHXhAdxSv67Ql0XTD9sg2EX52xyDiD9+xcrVszBy8m44138fH75YzDIeQ6MxwDO4OTo3CYBaNaeSr57AkXM3oRx7rFPS02icUahMEEoXVNc3h5JPYcWUudh7dA0mjF+LuGpd0De8HHTKXRptQVRp0wUvl87d6afmmL8wZ9pqnE5S1lPjgeDX30bwxZmYMG0FIm8VQa0OvdCzZSDcLbVNiN4zF1NmLMPO49dgdC+GCqGvoEOnFqhsf3qq6ToiVyzE8s07se/IedxIcUbh0tXQrOsHaFu9cPpxLsnnsXH6T5i5Zj8uJnvAL6gOWjS4ii9f/RL7m03H9QUdkH64VRKWdPVHyxmF0HvLPoyo5WSdbpOEY8umYEHkTZgtm14L79BO6FLP1265ZlzfOQvT1p9HiqYIKtfIj/1z52P7mQS4Fg9Bi+4fo11IoXTraYreg7lTZmDZzuO4ZnRHsQqheKVDJ7SoXDD987FjvjIV4UHvYCmaYuKBRXjHL0NN8xX80roiui4yovGEA1jWvUSW81IlLekK/5YzUKj3FuwbUQvpn3kyTq2Ygrl7j2LNhPFYG1cNXfqGo1xa40DBKm3Q5eXSufvJauV98decaVh9OgkCDTyCX8fbwRcxc8I0rIi8hSK1OqBXz5YITGscOdxGJlyPXIGFyzdj574jOH8jBc6FS6Nas674oG11FM6wAZLPb8T0n2Zizf6LSPbwQ1CdFmhw9Uu8+uV+NJt+HQsyDMbLfhspko5h2ZQFiLxptnTPQOuN0E5dUM/37oLN13di1rT1OJ+iQZHKNZB//1zM334GCa7FEdKiOz5uF5Lh68scvi/sKa/91PAgvLMUaDrxABa943fPa2++8gtaV+yKRcbGmHBgGbqXyGJeqqQl6OrfEjMK9caWfSOQ7m2RyzG8p9YAc/cDa6YAa+OBLh/C2o6AgpWV288jV+3IrNmTi31MXmhH99vHqM1oGaYsiMTNtJ2M0oxC0alLPdg1o3+kHd13H6Ps66780hoVuy6CsfEEHFjWHdk1o7wo5/ngOqa1KI2uy/3w6cYIfFvn7hHbHDUdr1XogoW3m6eN4U2ahualumJpSgBe6/cunitw9z0i1zdi/MjFOOfzLlac+BEv3mnsRkQMCkGtb66g3YKzmNY8N4mAHEW27VENvPeTw2pWqXJ6znsSXEArGmhEa3ARF0Pa3/oitaXPsktiMl2SH15yU6apxzS9VPy/nZKs/Le1V6DySdj6VYTzy3Ln2/+YGRKeX/0KxHpfhqIv+5FsyM0H/aQ10qOULtN53S0aMVTqZ31AzqTuGSDPGrJYT+UTfpXBEVn3/GUhYe6b4mnbJhoPCQipKJ7KJ2SN8slXr1f+1flK+3k31O9/ZO3gBuJrWb663Z3EoE372+DXVEbf/f5HEubcnadG5yzubk5pn65dK8ona2OttdRvn9bKgNAilvugLM/JSW8ZmqHRapVP2A/Yw5u8XfoGGayvvVoMUnnA7gzbJVamt/RIq6PRik59HhqdOLlY19MjRAZutS3ZJNFrB0sD37R5arQGcbK0N+Vvg580HR2RyTqqTBI1+RXJp8y/0OuzRdmCmbo1r514Kct3a/yDXLxP53y2vZepe2TAs/bP274or1GVwZLrb90S5sqbnrb2phGPgBCp6KlTXiPlvaZXXyud+Lafp1TMxTZKmHN3nsrjnd3dxEn9+lHjKhU/Wau8MjYmubZ2gIQWUZanzkfvJE5qe1TbntI+0g1psHO/Ht7k7X0lyP49ZKgsA3ZnaB3TW4qHpf0qy9Kl7Vt0Ti7W9fSQkIFb7z6fXLwv7JmiJssr+ZT6hV6X2Vk1Drkl89qpvU1u0viHi9ZpWUhcLF18tKIP6iv3vC0y63XNqkRBBlRQtrdt+2QohkqQCKVOpo/NouR4H5Nn2tH9eniTZXvfoHRfcRsqD5AMzegfaEc528coOxlp56Us362x/HC/nUwepG7fHDEelq9rKW3HLVxmZtxcqZHyRYhyn7WH13R6lNRzuvv6ZVqcm8jP6TZqquwd+KzyunhLp0Xs031aqW0jKzlqqdnNICPj0e/leU8lEHmGSPdpuyVK3R8lXpQtP3SUCuqYN+9WMl15U6deOSDrRjSVgsrBLy3wKuJPy+7186Sn0vDTBV5lxxFzYpesG9VCvLU68W//o6yxfF2xXjZs2CwR5+75oug+YiVi9ggZPHCgDBgwINMycOAQ+W7+QWv9nEqQs3s3ytrJneUZvVYKNh0uq23ruTFCzj3Ie9B0Q45sWys/tvcXnfomVw5CXrXfl0k7oyT270nyXvP2MnbPbbky+w0pquyo9UVfkEGLDkusUXktbkTK3L71LIHNucoA2Wn9/sd0faf8MvJbmbJsr1yIV3ewyXJhTkcpqez0fbosTvv6R9nBz+ugjl90kYDXRsu6s/HKB5U4Ob54kDT0UQ9ODz6kIf7MHtm4Yb2sGvayeCoHzXsDr7Lu0fvlu6YFLeOgXQLay097rotRkuTMrHZSwm49TVdmyxtFlfXRF5UXBi2Sw2lPXCLn9pV66kHEuYoMsD3xdJJk5bvFlW3qJA3GnFVaWOZMl/8nzzsr7da3qyzJ+PoZj8sv3RpKzZAQCVFKtQAv5SCrEddiQZbbISHV5bmm/WSZdUxvwtm9snHtZOn8jF60BZvK8NVpbWP9ho1KG36gxiE3jmyTtT+2F3+dehBQXn+v2vL+pJ0SFfu3THqvubQfuyd328h0XXb+MlK+nbJM9l5QXnNlUvKFOdKxpE60Pl1ksXU1TdHzpIM6LtElQF4bvU7OKu3IFHdcFg9qKD6WwPCgQxri5cyejbJh/SoZ9rKnEizuDbxK45D936n7DiUgKctv/9Meua48paQzs6RdCfv1NOXqfWEvaeW7UlzZpk4NxsjZLDOISS7/73lxVgKNb9cl1mk2Rjn+SzdpWDOtbYRUCxAvJSxpXItJkLW9VH+uqfRbFpVpCM2uJOyHbFwA6VwGoi0AGf4HZP0ipSxWwu7fmT8m25KjfUxSHmpHORjSEH9G9mzcIOtXDZOXleNRZoH38bejnO1jlJ2M/O95Z8v5Al3v2cnkfTnPB7Hy+xuFlA8XJaXzwuh02yP50HfSIL/y/rANaUhcJd2VtqJxryY9pi6V5cuX31tW7pZz6V5+Bl7Kvj0+4i9PjDg46xdsuumG+l/MwfhO1eGtftvkUgyh3SdhVq+q0F1djqnzLkDvUxHPlfeCIe2Badz9Ub1eTfjnVz7rp6OFZ9kaqBPkDSVQKLMLRliDBmiglPr166JKCduXbTlVAJVebot2bduibZalA9q+WN5aP6fcULJqPdSrWhyuylMweAWhrm0961VBiQf5hkVbEIHP1UVwMRdoNC6o+M5s7NgwAW/X9EaBym/jx0W/4sOQRKyYtQxXzAaUrRsKz5MrMGXsaIydthrnfcJQp5QeKZG/YMqmtLOdtflLoJTraSz84k3UKlUYngVLoHbvP3HNLLgdfxuWE2BjlmH6okvQBH6AqTN6omFJd2i1Hij36ueYPbL5Q13A271UCOrVb4Aw5fVXv4nNjM4rAOW8lNahL4NuEyehW0ghpa4zStStiXI6M2KvXkOqUi92xSwsu2KGoWxdhHqexIopYzF67DSsPu+DsDqloE+JxC9TNt25msRdRlyNvg6zsk29fYtkOVRB6+kLX3cNzDFRiM44E0lG3I0buKGU69ev48YtdWgBYLp9y3L7+g2lXLuBeOuJ5G4lq6JevaoontY4EFQ3rW00qF9PacMP1DhQMPA51A0uBhf1fVHxHczesQET3q4J7wKV8faPi/DrhyG520ba/ChRyhWnF36BN2uVQmHPgihRuzf+vGaG3I7HbevZ0THLpmPRJQ0CP5iKGT0boqS7FlqPcnj189kY2TzrYST3545SIfVQv0EYyntl0Tp0Xggop+479CjTbSImdQtBIaWqc4m6qFlOB3PsVVxTGwdic/W+sGe8Go3rZmWbevuiSJZPRtkv+frCXWNGTFS0dZqNIDkurW3csLSFW1BHDCiNA7fU29fVNnMNN2yNIxfcigP16gDF1SajvEWCagMN6iolFKjil1YnV3K0j3H+d7Uj91IIqVcfDcLKI6tm9PjbUc72McpOBr6+7tCYYxB1z07GkRTAKx91R7DzeUzvGIbm/xmK0ePHYkT/Tmj4Qj9svKW8QYy7Ma7DOxj9VzX0/OxFFEmMwOSBwzBrfQSOnjqFo39vx6q5P2HEZz3QfcBcnLC8fZIROeVDtGn1OvrMPweT3MTGkW+iVatWltLus7k49W+4shM9ftbgm60cVlMkyfJ3/ESnLycfb7z3k3figo5SxNq7Y7m9qJN42/fwqkznZExDpww9vGke2UlrSevkP2X0lq/Q1OeWedGIU/BA6wNyJ3XvQHnWoBXvTovSeksfWrJs71Ne9GoPwNJM5mg6LaPqKdss0+dhK87SRP3+R9m+v3UsK04ajWg9/OTZ0EbyQsM6UqV0Qcu0fK//Zum1NR7+WmoZNOIWPvOeXtzUyC8kRLnvYU9aU9tD4Sx6eNX5LOrkrcynovzfzrvzMZ0bIw2dIM6vTJFYMcnpUfVE+UyVyfO9W5yb/JzJ14kJMvdNT9FoXKX5tLtfsN4j7lcJ99CIJl9rmXWfLxJydEJW6l4Z+KxBtN6d5FF1QiRv7yPl9Wov49JM2ltutpFJzv3WUco6Kc9X6yF+z4ZKoxcaSp0qpaWgOi3f6/Kb5QU3yuGva4lB4ybh9343KZFfhGRxslEOt5FFoizoWDjzHl5F9vuOV2SK+pLm5n2RQdrX/BpxbT7N7uv3e8X9Gi4e6vum9SzrlCw8qiENthIFGVgBoi0CWXQxk/tzUyzus4/JU+0o5/sYZScjHQtn0cOreLztKIf7GImTX8M9lHr5pPX9djJ5kPr8cy5Vzi4dIE3KeqRdcUHddsr28W/8trQINFhua7SFpdnEU8p2j5FdE7pKTV/n9MdqjVacCwdKw+4z5LDlNY2R+Z39lLZiV+dOUY5T5XtJJnGEHJT6umflwTtiMmVAheDycDadweLJS3DR/lNVygn8qnwijkE+VHj2GetEpRkrTCa7irev4OpNdZ2zZjZbuwdsEs7jyJnYtJ7JnDBUQcfBg9C3d2/06tUr09K792cY0u916wMeJzPizkbiwPl46+0HoPVFpQq+0GncUa3HVCxdvhzL7ymLMPQldxj3/4xhv52Ctson+PPYGezfshar123F+kntUdquJ0RXtBz882mQ/NdqrL5qv2VTcHzVehzPfcfUY6CFb6UK8NVp4F6tB6Yuzex5L8eioS/dOeHmLicEli8DvaTi2IFDWV6j03jkEI4nC/SlgxCQu/MNHw1zHM5GHsCDN49cbCPjfvw87Dec0lbBJ38ew5n9W7B29TpsXT8J7e0bB3QoWs4f+TTJ+Gv1aqRvHsexav1x5I3mkfP3RUZOgeWhfCZG6rEDOJTlBVyNOHLoOJJFj9JBAdZpj4CyPc8ewkO85pl46HmyHeW+HeVsH6PsZHDoeDJEXxpBT2Qn80/So2Szr7D82GWc/msDli9dgU0HzuDon5Ow8EiKmlRgNl3D0ndLK9vdEzXen4yd5y/h2M61WL5kCVas3Yp9J6MRG30E637ogPKWc8o9ET71AlLMliGaGYoZiYe/Rb17z2ukp5HSKO4rh9XSxK6TXpVdlU+rTuJXt7P0H/m9jBnWR9rW8FE+gWklf+2hssvagZC6R+0J1YhT2RYy4L8jZPCHbeS54spj1U9muqJSo/MY2W73wTj1788tPYtOZV+RviPHypgRQ6RXpxcksKBBtAXCZUaMteITkvT3ZPnP6+HS8vkK4qmO6/IPlRbh4RKulrZ9Zc5Jo7XmXcmbekt5Z41o3GvI0L0ZuyASJGLi+/JaeEtpGFhA+UTsIqXrtkibn1La958vZ6yzNB75n7xsGUfnJ6Ed+sjXo8fL+NHDZVDPLtKyfmXxLxkifdcliPHQMKmtLE/v10B6fDla2YYDpXvLECmqTLOcgFG8toR3Gyc7byXI1v5VxU15zfIFNpMPvhgl474fLv3eqiPFnNLq6v1qSvjbo2TL9cuyYuhb0sqyXi0ktLSL8im9gAQ2bJm2rq3fke+3q5fcMcnFZUOko3X9W9QpZRn/6BnUSFpaprWWbmN3yC3TBVnQv42E+qvj2gpI+effkpEbY8R0faOMbBci3jqIrlgt6Tpup/rE5X8vp12mxi+0g/T5erSMHz9ahg/qKV1a1pfK/iUlpO+6THqilW2/tbcE6tUTWvpn2vuj9kbsG1xVabd6eabnpruXwMmCOu7TT2eQ4EGZnJyY9LdM/s/rEt7yeangqb5O/hLaIm07hIe3lb5zTkomrUM29S6vbCONuNcYKhmbR0LERHn/NaW9NQyUAkp7cyld9257a99f5t9tHDnbRsZDMqy2ss31ftKgx5cyeswIGdi9pYQUTeth0RiKS+3wbjJup/JaJmyV/lXdlNcnnwQ2+0C+GDVOvh/eT96qU0yc1J4WZZv51QyXt0dtkiMrhspbrdLWq0VoaXFRXvMCgQ3vvObvfL897bJepouybEhH6zZpIXVKqa+/pwQ1srWjbjJ2R6xcWNBf2oT6W9pOgfLPy1sjN0qM6bpsHNlOQrx1yr6jmNTqqrbhnL8v7pG8VXoHKonXUFn6Z944lOaxTwZXNSjb6xnpuek+rSNppbzrpxND8KB7T07M0OO66QOIEnvEvSpkb8YT0C5BJr8DCW8KqZBfeU2cIKFNlNvN0krfKRCjfX1ryW6eOd3HPNF29O0imZujfYzajJbJkI5p6x/eoo6UUsfgewZJo5Zp01p3Gys7bpn+kXZ0/32M2owGS1XluKZ/pqfcrxnlRbnKB0SPWXbtMUctNbcN2nhhpXz5WrB4WYJR2tcKWlc/qd1pjGyJthuqboqSFX1qSiH15AS1nhKSfaq9LHVKKgca5TE6rxYyxf5q3KZoWT0gTHyUnUPafNXHGKRQQCN5Z9xWuZblWQH/jJj5ncXPft3sisalvPTK5HuVpDU9xF89K9mpkvTL+PWc8nx/a1v07pUr0hWNuD3bX7bd/R5OYnZNkK41fZUdePp6WufCyoGhu8ywfP8TJ7vGhEtZt7uvjaFIFWnTI1wClB1z2nYPl2nq2cKpZ2XpgCZS1kPZ0Vvnp3H1l8Zvt5BAg3XehZvJxGN/yTfP5Uv/tZNd0WiLSIsp6o83pMqeoTWsZ0ZnUjQ68Wo5Vc4lR8hXte/OT6MrIs0nnZXk4+PlRSUs3qkbPi3tmcfskglda4qvJbTfnZ9G6yyFlWDVfcbhewOoynhQhtdRDrY6P+n4RyY/CBKzWN5WT5xwri5D77l4aiYSD8ui//0ka87eG12VxiGd/dLObrdfR0tRQkb5Xhsz+Yo/Sdb08Fdef+VDXqV+Gb4KN0n0b22lqNJ27pmfUjRuz0r/u40jx9sobtcYCS9ru4KKcr+hiFRp00PCA9T3pPpaeEn4tLQrEqSeXSoDmpQVDyVsp81PI67+jeXtFoFpP4KgBInCzSbIsq+ek3xZvuZaKdJiStpF91P3yNAa1qtzZFLUZbecekr++qr23fkp7aBI80lyNvm4jH/RU/3KSplu14Zz/L7IyCgHh9dRPvDpxK/jH5LZz8XELH5bSir7LufqQ++9tu49EuXwov/JT2vO3vvBxi58qmVNV4heWUen8pAdl9PfJ6cgnYsq2+LO80hfyveAJNvXt5Ys53kVudjHPMF21GSg9LbbJ2Qsd/cxajMaKjU8Mn9fpLWNljL1XLJE/BPt6H77GImRxW+XFJ3yIaL60Gyu352HqduBKK/Irj0+tuvwqlKuHsXeyNOI1RZGQHA1lCmY2dkDZtw8uQu7jycif5lKCA7wuu81JJMuR2L3/rOIRX6UCApG5VIFsjz5Ke9LwaWILTiqr4R6lb0fwfMw4saJvdh3PBq3NW4oVLQ0AgNLobBL+tErxutHsGvPSdx0LYmqNSvDN5tzpszx57D/r4O4lOiB0tVqoYLlTMS8x3jjBPbuO47o2xq4FSqK0oGBKFXYJdsTX26u7I6QV3/C+cBPsWbHtwjzsN6B29jerw4ajjgAn87zETGlOQpZ7/lHpVxCxJaj0Feqh8rej6B15GQbGa/jyK49OHnTFSWr1kTl7BqH8v6NP7cffx28hESP0qhWq0Laiap5Ts7eF+ncXInuIa/ip/OB+HTNDnx7t3EozWM7+tVpiBEHfNB5fgSmNH+I1pHxOrwpQMQOQB8EVPayTntY2c2zUO737WxHOW9HWe9j1GbUD3UajsABn86YHzEFD9OMnpQHzQdEj0N27fGxBl6iPM8chYXd6qDNdB0+WHcAo8OsR9mUHegbHIbRt9/AzO3T0aZYdrGZHJMZUQu7oU6b6dB9sA4HRofd+aGMlB19ERw2GrffmInt09vgoZpHLn944pF7gMBLuZDVPkb5FLKjbzDCRt/GGzO3Y3qbtB9T+rdhPqC8hIGXKDvGqzhxPBXFgoql+9W4pMvHcMm5DMoUysWv7ZGDMeLqieNILRaEYul+NC4Jl49dgnOZMnjo5sHA6/iy2McoOxkcu+SMMmUK4d+6l2E+oLyEgZeIiIgeOeYDykuya4/8npaIiIiIHBoDLxERERE5NAZeIiIiyjNi1g9FeL26CA0NRf2uU3Ayhz8NbIwch7b1QhHW/Btsy/KXPuhpxcBLREREeYQZydfP4fixg9i7Yzu27z+HhBwOETYnXsOZE8dx/FQ0bnNYMWXAk9aIiIjogTy2fHB7Lt70ewPzywzGnp2f41leLIdyILv2yMBLREREDyT3+SAeR5dOws9/bMKRq0Dhcs+h5ZvVcHPTLlw2aaArXANvdn0eJVOsgbd0H/w+oBDWLdiB03Gu8K/dCt17vIZKBayzUyUdw7IpCxB502z5CTxovRHaqQvq+fJL7KcNAy8RERE9crnKB+bzmP9BM3T+KRJxooVBr4Ux1QjodNCaTTAps9E41cbX+7egX8n5lsA7J05ruc+sdYKz1ojkVCB/7SH4c+1g1LJe1Dhlx2eoUu+/OJxqXQ9DZQzYthdfVWe38NMmu/bIjz9ERET0mJlxacbHeO+nA5BKXTF552XEJcbi1OrheKW4FmbRwKXhEKze9Qd6lb/7M+pidkLZtj9gZ9RtJN46ih9bFEbcrh/x8/okaw3AqfZgrNi+ARvWr8Kwlz0ZbChT/7J2YUTkuLaoFxqG5t9sU38e/hFIQfTJ07iRw7NA05gR9edQtG3VC/PO5eqBDy4lGidP30B2SzNfXIi+LVtjwNJLyhoSERHlFbFYNX81rusq4sNJP6BrDW8469zh/8Jn+OW7NvBR0oiuYACeCy525ye8VfrADzB1SnfUKKyEYJfSqFvDHzrzDVy7YX+Uc0epkHqo3yAM5b3uhmUie/+ywGtG4rUzOHH8OE5F304bq/OQjBFfoXFQBbQcczLbMGnPfHkuer49FL//uR3H4x7FWtyPERFfNUZQhZYYk831WSTuBHasWYDh3T7EzPOMvERElEeY4xATmwLRFkfpsvaRFshXpjS8s8ipGjd3eNjdp1H+I3oQ/7LA64SaX2zHpegrODDmBThbpz4MU9QVXDMbcTXqag4DbwI2DhuEeZe0CHx3OD6q+E+METIh6so1mI1XEXU167XUle+BYT0qQhe1GJ8PW4s463QiIqInSuuDSkE+0KXuwNyZR+2+oY3Djt+W4IjRepPoMXmkJ62lnF2Dqb/vwQ2TQFe8AV6vdAa/TlyAneeS4FGyKhp3fA8dQm1fV5gR89ccTFt9GknKrDUewXj97WBcnDkB01ZE4laRWujQqydaBrpbaicdW4YpCyJx05y2HlrvUHTqUg/2J2Gar+/ErGnrcT5FgyKVayD//rmYv/0MElyLI6RFd3zcLgSFbPXNMYj441esXD0LIyfvhnP99/Hhi8UsnwA0GgM8g5ujc5MAuKTVvsN8ZSrCg97BUjTFxAOL8I5fxs8MSTi35XdMm70a+87ehLZwOdRo2h6dW1eHj5qNTVewefoMbL1iVD7peuG5t7qiQdEkHF0yFQsP3LIMRdCXbYoP2wRblm2OicAfv67E6lkjMXm3M+q//yFeLGZZS2gMnghu3hlNAu6upfnKL2hdsSsWGRtjwoFl6F4i4/oRERE9Grk5ac14eCya1P0Ea+O8UPONLmj5rDuits3G1MWHlWM74N7qV0T/0Q7OZ+ehf+9RmL1oBy56VMALLd/G59+/B/0vH2HwTwuwKvImitZsiTd6jsR3b7hg+dD/w6S/45UlmBG1dyW2n3dF+QYNUL6ARgkLRdCwz3f4sFa+tJUgh5Zte1QD7/3krJpRDn1dU5yUZan1tZ4+4u2iEY1GL05OeuVfiEbvLQ2+2ChKIFYkyNw3PUVpjpb6Go8ACanoKTqN8hi9XvTKvzrf9jLvhlo3Wbb3DRKDdd5qMVQeILtT1fvuip3eUjwsdTSi1WmVeSvzcHIRJ51GlEQtIQO3Kku1ipkh4fmV6db5ZSz6sh/JhmRr3TtMEjX5Fcmn0Uqh12eLZdXspZ6WOe8FSwGtujytGFxcxGD5Wy9FaveRZZdMYrr0g7zkZl2uvqL8305lIclbpVegso2sy3Z++Se5Zp1lzIxwyW/3vNMXvZT9aIOydezdknntvESrcZPGP1y0TiMiInr01GNRzpnk2ub/yusV1GO99TimcZXilQOkiHKsdG8103KMTt4xSKq6247PynHc5zX59dI1mduhmJIN7j6u0mdblOPuHhlaw+PO8TNj0ei8pOXUc8qS6WmgvuZZeYSBV5F0QfatGihhTkpD0+jE9/nPZfnJOKWhJcq5jaOldVknpfGVkM4L0uKc6cYR2bb2R2nvr0trmHovqf3+JNkZFSt/T3pPmrcfK3uSLFVF4s/Ino0bZP2qYfKypxImMwm8YoyW/d81lYJaZV4uAdL+pz1y3ais1plZ0q6ETrQ+XWRxorWuslYxJ3bJulEtxFurE//2P8qa9etlvVI2bNgsEefirfXsJcnKd4uLDk7SYMzZDG8goxz9/nnx1GrFM6S7TNsdZQmiiRe3yA8dK4i7EoC9W02Xi6ZUuXJgnYxoWlC0tsCriD+9W9bP6ykhhvSBV0wxcmLXOhnVwlsJ8f7S/sc1lnVcv36DbNgcIfeupkku/+95cVaW59t1iXUaERHRo5fjfGDPFCdn966XFcvXyc6j0RK/q79UMmjEs+1cJS0QPbjs2uOj/b7b2Q/Bz5VDQfVbBK9WGDVrEJqU8YAWLihRryem/q8r/HEBC2b8aamuLRiI5+oGo5iLBhqXinhn9g5smPA2anoXQOW3f8SiXz9EiG2grnsphNSrjwZh5ZHlSZg6LwSU84IBepTpNhGTuoWgkFLXuURd1Cyngzn2Kq6lWusqa+VZtgbqBHnDoNHApVgwwho0QAOl1K9fF1VKpA2lSM+Iq9HXYda4wNu3SPoB0MaDmPXLJtx0q48v5oxHp+relqEbLsVC0X3SLPSqqsPV5VMx74IWPhWfQ3kvQ9rjrNz9q6NeTX/kV7ZdOlpPlK1RB0HeBmiU5RYLDrOsY4MG9VG/bhXcu5rK8/L1hbvGjJioaOs0IiKivMCEqL1rsWn/GVy+cgaRaybiwx4/4pCpAEIb1kp3hQaiR+mxDfDU+Qai/J0Bs2ncKwRB7cxNjLlmnXKXxrMWWrxS5pGciKZycXfL/Mk91MULlGDsoq5hKpKS7iTnNKaLuBhlVp73s6hSPEMidwpE1YoFoDFewcXLj39kvjHxNlJEAycXV+sUIiKiPCBlO0a0ew0du3RB165d8c4HgzDtbyfU+XgqJnQt8fhCCT31HlvbSj04BUN+3A91GLlF8knMGTgeW1INKFezlnVi3mE2Z0jCCedx5ExshnzshMDyZaCXVBw7cCj9dYANFRBc3hmmM4sxecnFdFd8SDnxK6atjgHyVcCzz1g/v1p6ck0w2VW8feUqbqod8lkyK+tp/dMq4fwRnIm1n2jEkUPHkSx6lA4KsE4jIiLKA5zqYMAfSzB39mzMUsqchaux+8RJbB7VEiWz+vaW6FGwDm3IVg6rpYmbJs2drQPGNS5SNLihNHvlBale0kO0Gq3kr9ZbVl0ziSREyMT3X5Pwlg0lsIBWNC6lpW6LcAkPV0t76T//jBitszRdXCZDOlrva1FHSjlrROsZJI1apk1r3W2s7LhlkgsL+kubUH/L+NUC5Z+Xt0ZulBjTddk4sp2EeOsEumJSq+s42XnLOmNF6t+fS4hBI05lX5G+I8fKmBFDpFenFySwoEG0BcJlRoy1olXy1t4SqFdPmut/70lz63pJZVeNaJz8pG7n/jLy+zEyrE9bqeFjEI02v9Qeuss6PilV9gx8VgwaJynbYoD8d8Rg+bDNc1Jceay63XRFa0jnMdstNdOkyt+fh6TVf6WvjBw7RkYM6SWdXgiUggbluYbPkDurmbpPBldVlqd/Rnpusg2AJiIievRylQ+IHrPs2uNjC7yGSh1lSM8WElLaSzzcPMWvfF1pN3S+HLKGTVP0b9K26N0rE6QrGjd5tv+2O1cfSN0zVGp42M7YzFg0ovNqKVPPJUvEV7Ul350zOHVSpPkkOZt8XMa/6KkOVrbWDZdpF+1ONzNFy+oBYeKjhN4789QYpFBAI3ln3FZRs3k6xoMyvI6baHR+0vGPO6eWWRnlwsov5bVgrztXq1Cv1uDqV1s6jdki0faLjVohfWoWunOmqsbJR6q9XEdKKmFaXXevFlOsNdOYolfLgDCfdFeq0BgKSUCjd2Tc1mt3TqCLWfy2lNRpxLn6UNmf8aQ+IiKiR0g9FhHlFdm1x0d6HV6L+F/QokhnrKg+Eoc39kHZf8lXFEmXI7F7/1nEIj9KBAWjcqkCyGrVb67sjpBXf8L5wE+xZse3CPOw3nFHCq4e3YvI07HQFg5AcLUyKJjZzMw3cXLXbhxPzI8ylYIR4HW/EcxJuBy5G/vPxgL5SyAouDJKFbCb8e3t6FenIUYc8EHn+RGY0ryQ9Q4iIqJHL1f5gOgxy649PtLAa74RgSXzJ+LLHhOxv3RbDPusMYr510WrRuXu+QGHfzVzFBZ2q4M203X4YN0BjA7LG+eVpuzoi+Cw0bj9xkxsn94Glt+nICIiekwYeCkv+YcCrxEHhtZGtSF/wf76BRqP1pgZNQ9t3awTHIXxKk4cT0WxoGLIO08tCZePXYJzmTIo9E/84jERET3VGHgpL/mHAi9gjj2I1asiLT8tnEYD5xK10ayu/yO73BgRERHlDQy8lJf8Y4GXiIiInh7MB5SXZNceOcqTiIiIiBwaAy8REREROTQGXiIiIiJyaAy8REREROTQGHiJiIiIyKEx8BIRERGRQ2PgJSIiIiKH9pgDbzwOLxiGD95oikYNGuLFV9uga8+vMCsixnr/o2e+tAh9moWhbmgoQtVSrz0mHDJa783LzIj6cyjatuqFeedM1mkqMy4u7IuWrQdg6SWzdRoRERER5dRj/OEJE05MbI46PZbjmtYV+T20uH3zNlKV2bi8PBGJK7pZ6z1appOT8EaTgdgca0ZK/A3cTA1Any37MKKWk7VG3mS+/Dva12iP32Nq4utdm9Cvou23gU048m1DVO+7FfnCp2HX3I4owX55IiLKA/jDE5SXPJkfnjCdxvzpq3HNJQzf7LuG2Jh4xF3eiyWTxmLyF62tlR49Xdl3MO/YFURFn8P0N4tAY52etyVg47BBmHdJi8B3h+OjO2FXpUP5HsPQo6IOUYs/x7C1cdbpRERERJQTj6GHNxmnVkzB3L1HsWbCeKyNq4YufcNRTqfcpdGiYJU26PJyaTinVc4VY/RuzJk0Ayv3nER0oh6eJSujXqPKcE30xvMdG6Kkuow7krCkqz9aziiE3tn08Cad24Lfp83G6n1ncVNbGOVqNEX7zq1R3cc+dJoRe2AhJk1djO1Ho5DsVBj+VRvguRJaFKrbHk3K2T0bUzT2zJ2CGct24vg1I9yLVUDoKx3QqUVlFMzi44X5ylSEB72DpWiKiQcW4R2/jBXNuPJLa1TsugjGxhNwYFl39vISEdETxx5eykuybY9q4L2fHFZLk7pHBjxrEI3yGPVx6YtGDFUGS0SqtW4u3NoxQl4sps5XIxq9s7i5OYlOeV6W+eoDpNfWZGtNm0RZ3MVHtPog6bsj432qVDk95z0JLqC1zFNrcBEXQ9rf+iK1pc+yS2Ky1DPJlYXdJMBFY1l/vbOrOOnUv9Vl66T4uysttVSm6LUyuIGvGNT10mjF4GQQreVvg/g1HS0RCdaK6ZgkavIrkk+pX+j12XLDOvUet+ZJOy9l/dwayw8X09aMiIjoSVKPhUR5RXbt8dH3E+pD0H/JTmxYOxmdn9FDW7Aphq9ej/XrlbJhA3Yt7ocq9p2nOXF7Mz7vPBBrrhZFs2F/4kTMbSQkJCL21Hx0C9ArMTQJCbfV55lzpmMT8M67PyNSUxXvTduFy/GJSLx1Hpt/6ICAxJ34rst/MNNyklgi1vwyC8dT/fDGL8cQe/s2bseewoZxr6OcAdBqrd3K5ijM+bADvt54DUWeH4RFh24gMTkR1/6ei75hnri84v/Q5ZtdSE6rbScVETv34bbo8WxoHRSwTr2HeyhCn1UWmPQ3du9NsU4kIiIiovt5LF+Mu5Wsinr1qqK4qwYweCGobgM0aKCU+vVQpYSLtVbOJW+bjXnHTfBpMwrT/+9FlPFQV1sLD/9X8WHHqnA2FEWJounGM9yHEQdn/YJNN91Q/4s5GN+pOrzVEQ8uxRDafRJm9aoK3dXlmDrvgjLRGZWrV4ab+SLmvFsLlarWQZO3vsCCa7Xx8YTfsWhoI8scEbsCs5ZdgdlQFnVDPXFyxRSMHT0W01afh09YHZTSpyDylynYdE/iNeJq9HWYNS7w9i2S9Qui9YSvrzs05hhERd8bm4mIiIgoc/+KkaDGy5dx1ayDf8VKyG+dlkaPyv3X4szp1fgs3Yle92PCxYtRMOt88WyV4kgflZ0QWLUiCmiMuHLxsnJbj2c/m4/l4z9Bm1B/6K8ewqbFv+D7L3rhox4fY+CcQ5ZHmW/F4GaKQFKOYq5y36effnqn9Pp6EU6nCkxXz+HsbUt1Oxq4uKhjgFORlJSaNilTRiTeToFonODimtsuciIiIqKnV54JvOa4s4g8cB7x1tv2DP7+8NOZcGTDGpy555K6STi9ahrm7c/N1QsMqBBcHs6mM1g8eQku2l/2NuUEfp22GjHIhwrPPqPkzEOY9N67mKLphOlr/8LxS7FIuHkRfy/7As8XuIwVX42yPEzrWwkVfHXQuFdDj6lLsXz58nvLoqF4yd1S3Y4SsMuXgV5ScezAIWQ5WMF4BIeOJ0P0pREU8CCn/BERERE9nR79VRqSIzGl95dYeuEGjm5Yj8OJJVHn5arwtkRrFzzT9it883qZ9L2qKZvRJ/hFfHdUj+pfbMa2QVWRrg/TdBjfNw7Fp+tvo2jt1nijSTX4F3KG8eYF7Fv+K37bdhmeby1A1JSaWPn1Z/g5Ig4CM6L3/YltZ50RUL8hKnhqlFRaGA16j8JHtfMBN9ejd1gzjDpgQrHQdujUXFlH0wXsnD8d8/ZchWutz7Fm/SDUuP0zmhZ7FyulGGq2botXa/jDU3ML5/Yuxa+/7cDVZ/oi5eBwdSVxdMIrCPvwT9wqWgevt2uKkFIFgPgonD0aiYg9+3DaqQ2mbRqBhm5pT8smZVsfPFv/W5wK6o9te79G9Uw6cI37h6BmjS8R6f8x1kWORhgzLxERPWG8SgPlJf/sVRpi5ktnvyyu0qBxkfK9Nso910xIWiM9/PWi0ThJpX477r1fYbq2VUa3ryZeTrYrJKQVjcFTApsNkEWnU0VS98k3z+XL4goRSl1tEWkx5Zz16gsixgsr5cvXgu3mqRGtq5/U7jRGtkRbayWtk0/LF5Ri/n7iprVbtvJcij3XTSbvi0urpzLFyK4JXaWmr3P6ddBoxblwoDTsPkMOZ3aFCuNBGV7HTTQ6P+n4xzXrRHsxsvjtkqLTOEv1ofvlAS5yQURE9MipxziivCK79vgYf2ktd1IuRWDLUT0q1asM72zOP0u5fgL7I4/jyi0TDAV8Ua5SZZQr/HDdnSlXj2Jv5GnEagsjILgayhTMbAVMiDsXib2HzuOWeMA3oAqqli2YvifaxngDJ/buw/Ho29C4FULR0oEILFUYLtkMILm5sjtCXv0J5wM/xZod3yLMw3qH4vb2fqjTcAQO+HTG/IgpaF7IegcREdETxB5eykuya495JvA+9cxRWNitDtpM1+GDdQcwOsz2Qxkp2NE3GGGjb+ONmdsxvU2xf8eZhkRE5PCYDygvYeD9tzBexYnjqSgWVAzphvkmXcaxS84oU6ZQ5j3KRERETwDzAeUlDLxERET0yDEfUF6SXXvkt+NERERE5NAYeImIiIjIoTHwEhEREZFDY+AlIiIiIofGwEtEREREDo2Bl4iIiIgcGgMvERERETk0Bl4iIiIicmgMvERERETk0Bh4iYiIiMihMfASERERkUNj4CUiIiIih8bAS0REREQOjYGXiIiIiBwaAy8REREROTQGXiIiIiJyaAy8REREROTQGHiJiIiIyKEx8BIRERGRQ2PgJSIiIiKHxsBLRERERA6NgZeIiIiIHBoDLxERERE5NAZeIiIiInJoDLxERERE5NAYeImIiIjIoTHwEhEREZFDY+AlIiIiIofGwEtEREREDo2Bl4iIiIgcGgMvERERETk0Bl4iIiIicmgMvERERETk0Bh4iYiIiMihMfASERERkUNj4CUiIiIih8bAS0REREQOjYGXiIiIiBwaAy8REREROTQGXiIiIiJyaAy8REREROTQGHiJiIiIyKEx8BIRERGRQ2PgJSIiIiKHxsBLRERERA6NgZeIiIiIHBoDLxERERE5NAZeIiIiInJoDLxERERE5NAYeImIiIjIoTHwEhEREZFDY+AlIiIiIofGwEtEREREDo2Bl4iIiIgcGgMvERERETk0Bl4iIiIicmgMvERERETk0Bh4iYiIiMihMfASERERkUNj4CUiIiIih8bAS0REREQOjYGXiIiIiBwaAy8REREROTQGXiIiIiJyaAy8REREROTQGHiJiIiIyKEx8BIRERGRQ2PgJSIiIiKHxsBLRERERA6NgZeIiIiIHBoDLxERERE5NAZeIiIiInJoDLxERERE5NAYeImIiIjIoTHwEhEREZFDY+AlIiIiIofGwEtEREREDo2Bl4iIiIgcGgMvERERETk0Bl4iIiIicmgMvERERETk0Bh4iYiIiMihMfASERERkUNj4CUiIiIih8bAS0REREQOjYGXiIiIiBwaAy8REREROTQGXiIiIiJyaAy8REREROTQGHiJiIiIyKEx8BIRERGRQ2PgJSIiIiKHxsBLRERERA6NgZeIiIiIHBoDLxERERE5NAZeIiIiInJoDLxERERE5NAYeImIiIjIoTHwEhEREZFDY+AlIiIiIofGwEtEREREDo2Bl4iIiIgcGgMvERERETk0Bl4iIiIicmgMvERERETk0Bh4iYiIiMihMfASERERkUNj4CUiIiIih8bAS0REREQOjYGXiIiIiBwaAy8REREROTQGXiIiIiJyaAy8REREROTQGHiJiIiIyKEx8BIRERGRQ2PgJSIiIiKHxsBLRERERA6NgZeIiIiIHBoDLxERERE5NAZeIiIiInJoDLxERERE5NAYeImIiIjIoTHwEhEREZFDY+AlIiIiIofGwEtEREREDo2Bl4iIiIgcGgMvERERETk0Bl4iIiIicmgMvERERETk0Bh4iYiIiMihMfASERERkUNj4CUiIiIih8bAS0REREQOjYGXiIiIiBwaAy8REREROTQGXiIiIiJyaAy8REREROTQGHiJiIiIyKEx8BIRERGRQ2PgJSIiIiKHxsBLRERERA6NgZeIiIiIHBoDLxERERE5NAZeIiIiInJoDLxERERE5NAYeImIiIjIoTHwEhEREZFDY+AlIiIiIofGwEtEREREDo2Bl4iIiIgcGgMvERERETk0Bl4iIiIicmgMvERERETk0Bh4iYiIiMihMfASERERkUNj4CUiIiIih8bAS0REREQOjYGXiIiIiBwaAy8REREROTQGXiIiIiJyaAy8REREROTQGHiJiIiIyKEx8BIRERGRQ2PgJSIiIiKHxsBLRERERA6NgZeIiIiIHBoDLxERERE5NAZeIiIiInJoDLxERERE5NAYeImIiIjIoTHwEhEREZFDY+AlIiIiIofGwEtEREREDo2Bl4iIiIgcGgMvERERETk0Bl4iIiIicmgMvERERETk0Bh4iYiIiMihMfASERERkUNj4CUiIiIih8bAS0REREQOjYGXiIiIiBwaAy8REREROTQGXiIiIiJyaAy8REREROTQGHiJiIiIyKEx8BIRERGRQ2PgJSIiIiKHxsBLRERERA6NgZeIiIiIHBoDLxERERE5NAZeIiIiInJoDLxERERE5NAYeImIiIjIoTHwEhEREZFDY+AlIiIiIofGwEtEREREDo2Bl4iIiIgcGgMvERERETk0Bl4iIiIicmgMvERERETk0Bh4iYiIiMihMfASERERkUNj4CUiIiIih6YRhfXvLGk0GutfRERERER5U1axNkeBl4iIiIjo34pDGoiIiIjIoTHwEhEREZFDY+AlIiIiIofGwEtEREREDo2Bl4iIiIgcGgMvERERETk0Bl4iIiIicmDA/wOhfE8xhXYp9wAAAABJRU5ErkJggg==)"
      ],
      "metadata": {
        "id": "GVrV9G1jtap2"
      }
    },
    {
      "cell_type": "code",
      "source": [
        "A) abcdefghi\n",
        "B) abc\n",
        " def\n",
        " ghi\n",
        "C) abc\n",
        " def\n",
        " ghi\n",
        "D) เกิด Error ขึ้น\n",
        "E) ไม่มีข้อใดถูก\n"
      ],
      "metadata": {
        "id": "rIuyhDgxtN7r"
      },
      "execution_count": null,
      "outputs": []
    }
  ]
}