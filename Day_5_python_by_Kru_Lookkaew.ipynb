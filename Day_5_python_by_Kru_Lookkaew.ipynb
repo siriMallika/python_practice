{
  "nbformat": 4,
  "nbformat_minor": 0,
  "metadata": {
    "colab": {
      "name": "Day#5-python-by_Kru-Lookkaew.ipynb",
      "provenance": [],
      "collapsed_sections": [],
      "authorship_tag": "ABX9TyNCaPPzVJO8B4wT0yJURKjp",
      "include_colab_link": true
    },
    "kernelspec": {
      "name": "python3",
      "display_name": "Python 3"
    },
    "language_info": {
      "name": "python"
    }
  },
  "cells": [
    {
      "cell_type": "markdown",
      "metadata": {
        "id": "view-in-github",
        "colab_type": "text"
      },
      "source": [
        "<a href=\"https://colab.research.google.com/github/siriMallika/python_practice/blob/main/Day_5_python_by_Kru_Lookkaew.ipynb\" target=\"_parent\"><img src=\"https://colab.research.google.com/assets/colab-badge.svg\" alt=\"Open In Colab\"/></a>"
      ]
    },
    {
      "cell_type": "markdown",
      "source": [
        "https://www.coursehero.com/file/48638801/2110101-Midterm-Sample411115062170533624pdf/"
      ],
      "metadata": {
        "id": "FAcomD0hew-c"
      }
    },
    {
      "cell_type": "markdown",
      "source": [
        "1. ถ้าให้คำสั่ง a = 123.4 ทำงาน ตามด้วยให้ a = \"123.4\" ทำงาน แล้วตัวแปร a เก็บข้อมูลประเภทใด"
      ],
      "metadata": {
        "id": "doifmu4cep25"
      }
    },
    {
      "cell_type": "code",
      "execution_count": 1,
      "metadata": {
        "colab": {
          "base_uri": "https://localhost:8080/"
        },
        "id": "bJMYxKMgYBZE",
        "outputId": "2a44f724-f25c-4bb9-fc05-aa1ab81c48f7"
      },
      "outputs": [
        {
          "output_type": "execute_result",
          "data": {
            "text/plain": [
              "str"
            ]
          },
          "metadata": {},
          "execution_count": 1
        }
      ],
      "source": [
        "a = 123.4\n",
        "a = \"123.4\"\n",
        "type(a)"
      ]
    },
    {
      "cell_type": "markdown",
      "source": [
        "2. ชื่อตัวแปรในข้อใดผิดกฎในภาษา"
      ],
      "metadata": {
        "id": "fhDfJDrVfLSg"
      }
    },
    {
      "cell_type": "code",
      "source": [
        "T^T"
      ],
      "metadata": {
        "id": "hW4btDwQfPgX"
      },
      "execution_count": null,
      "outputs": []
    },
    {
      "cell_type": "markdown",
      "source": [
        "3. ถ้า a = 87634 ค าสั่ง a%1000//10%10 มีค่าเท่ากับข้อใด\n",
        "\n",
        "\n",
        "---\n",
        "\n",
        "\n",
        "A) 7 B) 6 C) 3 D) 4 E) ไม่มีข้อใดถูก\n"
      ],
      "metadata": {
        "id": "vPg4yVyEfU82"
      }
    },
    {
      "cell_type": "code",
      "source": [
        "a = 87634\n",
        "a%1000//10%10"
      ],
      "metadata": {
        "colab": {
          "base_uri": "https://localhost:8080/"
        },
        "id": "thqFWp27fSQO",
        "outputId": "c191fcaa-0468-46e6-daa1-cffd51bbc828"
      },
      "execution_count": 5,
      "outputs": [
        {
          "output_type": "execute_result",
          "data": {
            "text/plain": [
              "3"
            ]
          },
          "metadata": {},
          "execution_count": 5
        }
      ]
    },
    {
      "cell_type": "markdown",
      "source": [
        "4. การคำนวณในข้อใดได้ผลต่างจากข้ออื่น"
      ],
      "metadata": {
        "id": "kqjEmWatfy-s"
      }
    },
    {
      "cell_type": "markdown",
      "source": [
        "*/%  +-  --> ซ้ายไปขวา"
      ],
      "metadata": {
        "id": "oy3ia1mohYKT"
      }
    },
    {
      "cell_type": "markdown",
      "source": [
        "** ขวา -->ซ้าย"
      ],
      "metadata": {
        "id": "VUMsOEDUhjKO"
      }
    },
    {
      "cell_type": "code",
      "source": [
        "import math"
      ],
      "metadata": {
        "id": "Xekd06Awgp4B"
      },
      "execution_count": 9,
      "outputs": []
    },
    {
      "cell_type": "code",
      "source": [
        "9**1/2  #correct"
      ],
      "metadata": {
        "colab": {
          "base_uri": "https://localhost:8080/"
        },
        "id": "nMkvCRCtgVC5",
        "outputId": "a3f0f28a-85b5-464a-b46a-8b2f51cee3d0"
      },
      "execution_count": 11,
      "outputs": [
        {
          "output_type": "execute_result",
          "data": {
            "text/plain": [
              "4.5"
            ]
          },
          "metadata": {},
          "execution_count": 11
        }
      ]
    },
    {
      "cell_type": "code",
      "source": [
        "9**(1/2)"
      ],
      "metadata": {
        "colab": {
          "base_uri": "https://localhost:8080/"
        },
        "id": "9z_y0V2og4v0",
        "outputId": "94ed46d4-855a-4374-f631-8483c60c70ae"
      },
      "execution_count": 16,
      "outputs": [
        {
          "output_type": "execute_result",
          "data": {
            "text/plain": [
              "3.0"
            ]
          },
          "metadata": {},
          "execution_count": 16
        }
      ]
    },
    {
      "cell_type": "code",
      "source": [
        "9**0.5"
      ],
      "metadata": {
        "colab": {
          "base_uri": "https://localhost:8080/"
        },
        "id": "Y_JTDPYagzkL",
        "outputId": "938fad4e-530a-4a65-ff64-a62abe0ed40a"
      },
      "execution_count": 14,
      "outputs": [
        {
          "output_type": "execute_result",
          "data": {
            "text/plain": [
              "3.0"
            ]
          },
          "metadata": {},
          "execution_count": 14
        }
      ]
    },
    {
      "cell_type": "code",
      "source": [
        "math.sqrt(9)"
      ],
      "metadata": {
        "colab": {
          "base_uri": "https://localhost:8080/"
        },
        "id": "4dVRtOAMgVsL",
        "outputId": "b941a433-0120-4225-a82f-b04094456580"
      },
      "execution_count": 10,
      "outputs": [
        {
          "output_type": "execute_result",
          "data": {
            "text/plain": [
              "3.0"
            ]
          },
          "metadata": {},
          "execution_count": 10
        }
      ]
    },
    {
      "cell_type": "code",
      "source": [
        "math.pow(9,1/2)"
      ],
      "metadata": {
        "colab": {
          "base_uri": "https://localhost:8080/"
        },
        "id": "2kSU93BkgYUW",
        "outputId": "1d6c75bc-c6b5-4cd1-e0e7-c9eb061a3507"
      },
      "execution_count": 15,
      "outputs": [
        {
          "output_type": "execute_result",
          "data": {
            "text/plain": [
              "float"
            ]
          },
          "metadata": {},
          "execution_count": 15
        }
      ]
    },
    {
      "cell_type": "code",
      "source": [
        "3/1"
      ],
      "metadata": {
        "colab": {
          "base_uri": "https://localhost:8080/"
        },
        "id": "uLnwwQtmgZ8T",
        "outputId": "118ae692-8928-4aee-9422-814b50003dce"
      },
      "execution_count": 13,
      "outputs": [
        {
          "output_type": "execute_result",
          "data": {
            "text/plain": [
              "3.0"
            ]
          },
          "metadata": {},
          "execution_count": 13
        }
      ]
    },
    {
      "cell_type": "code",
      "source": [
        "เหมือนกันทุกข้อ"
      ],
      "metadata": {
        "id": "tWan--_zghlK"
      },
      "execution_count": null,
      "outputs": []
    },
    {
      "cell_type": "markdown",
      "source": [
        "5. เมื่อโปรแกรมทางขวานี้ท างาน แล้วป้อนเลข 12345 จะได้ a มีค่าเท่าใด"
      ],
      "metadata": {
        "id": "yA5gginih2Mo"
      }
    },
    {
      "cell_type": "code",
      "source": [
        "n = int(input())\n",
        "a = n%10\n",
        "n //= 10; a = 10*a + n%10\n",
        "n //= 10; a = 10*a + n%10\n",
        "n //= 10; a = 10*a + n%10\n",
        "n //= 10; a = 10*a + n%10"
      ],
      "metadata": {
        "id": "2foQh3Z5h8Dw"
      },
      "execution_count": null,
      "outputs": []
    },
    {
      "cell_type": "markdown",
      "source": [
        "A) 10000 B) 50000 C) 12345 D) 54321"
      ],
      "metadata": {
        "id": "Mcr0bKiuiA79"
      }
    },
    {
      "cell_type": "markdown",
      "source": [
        "6. คำสั่ง 5+a/9*(c + 32) แทนการคำนวณสูตรใด"
      ],
      "metadata": {
        "id": "WQVEv7EyiIev"
      }
    },
    {
      "cell_type": "code",
      "source": [
        ""
      ],
      "metadata": {
        "id": "3H8tOXBeiPsu"
      },
      "execution_count": null,
      "outputs": []
    },
    {
      "cell_type": "code",
      "source": [
        ""
      ],
      "metadata": {
        "id": "SX-ydYB8j07J"
      },
      "execution_count": null,
      "outputs": []
    },
    {
      "cell_type": "markdown",
      "source": [
        "7. ให้ m เก็บจ านวนเต็ม ข้อใดไม่ใช่ค าสั่งที่ทดสอบว่า m เก็บเลขเดือนที่ถูกต้อง"
      ],
      "metadata": {
        "id": "5lUk_4m2jbu4"
      }
    },
    {
      "cell_type": "code",
      "source": [
        "if m > 0 and m < 13 :"
      ],
      "metadata": {
        "id": "Qcs8_lQflioL"
      },
      "execution_count": null,
      "outputs": []
    },
    {
      "cell_type": "code",
      "source": [
        "if not(m < 1 or m > 12) :"
      ],
      "metadata": {
        "id": "YEuNohrMl53r"
      },
      "execution_count": null,
      "outputs": []
    },
    {
      "cell_type": "code",
      "source": [
        "if 1 <= m <= 12 : "
      ],
      "metadata": {
        "id": "o-h23ovOl9Cw"
      },
      "execution_count": null,
      "outputs": []
    },
    {
      "cell_type": "code",
      "source": [
        "if 0 < m < 13:"
      ],
      "metadata": {
        "id": "smT-vjLjmGxs"
      },
      "execution_count": null,
      "outputs": []
    },
    {
      "cell_type": "markdown",
      "source": [
        "13.ถ้าให้โปรแกรมทางขวานี้ท างาน แล้วป้อนข้อมูลเป็น 7 1 4 6 อยากทราบว่าจะแสดงอะไร"
      ],
      "metadata": {
        "id": "K410ludoncZ7"
      }
    },
    {
      "cell_type": "code",
      "source": [
        "a,b,c,d = [int(e) for e in input().split()]\n",
        "if a > b : a,b = b,a\n",
        "if b > c : b,c = c,b\n",
        "if c > d : c,d = d,c\n",
        "if a > b : a,b = b,a\n",
        "if b > c : b,c = c,b\n",
        "if a > b : a,b = b,a\n",
        "print(b)\n"
      ],
      "metadata": {
        "id": "9_KjClrNoSSe"
      },
      "execution_count": null,
      "outputs": []
    },
    {
      "cell_type": "code",
      "source": [
        "A) 7\n",
        "B) 1\n",
        "C) 4\n",
        "D) 6"
      ],
      "metadata": {
        "id": "jPxPsWO5ne9m"
      },
      "execution_count": null,
      "outputs": []
    },
    {
      "cell_type": "markdown",
      "source": [
        "ใช้โปรแกรมข้างล่างนี้ ตอบค าถาม 3 ข้อต่อไปน 14-16"
      ],
      "metadata": {
        "id": "JyvrbOQCoy23"
      }
    },
    {
      "cell_type": "code",
      "source": [
        "a,b,c = [int(e) for e in input().split()]\n",
        "if a > b :\n",
        " a += b\n",
        "elif a < b :\n",
        " b += a\n",
        "else:\n",
        " a = b + c\n",
        "print(a,b,c)"
      ],
      "metadata": {
        "id": "oynBgCc7oyDU"
      },
      "execution_count": null,
      "outputs": []
    },
    {
      "cell_type": "markdown",
      "source": [
        "14.ถ้าโปรแกรมข้างบนท างาน แล้วป้อนข้อมูลเป็น 2 4 2 จะแสดงอะไรทางจอภาพ"
      ],
      "metadata": {
        "id": "eR1rHlgZpIX5"
      }
    },
    {
      "cell_type": "markdown",
      "source": [
        "A) 2 4 2 B) 2 6 2 C) 6 2 2 D) 6 4 2 E) ไม่มีข้อใดถูก"
      ],
      "metadata": {
        "id": "JReRuQVNpL2U"
      }
    },
    {
      "cell_type": "markdown",
      "source": [
        "15.ถ้าโปรแกรมข้างบนท างาน แล้วป้อนข้อมูลเป็น 4 4 2 จะแสดงอะไรทางจอภาพ"
      ],
      "metadata": {
        "id": "Ciw5oGFHpSQQ"
      }
    },
    {
      "cell_type": "markdown",
      "source": [
        "16.ถ้าโปรแกรมข้างบนท างาน แล้วป้อนข้อมูลเป็น 4 2 2 จะแสดงอะไรทางจอภาพ"
      ],
      "metadata": {
        "id": "9-ASnkjEpTZn"
      }
    },
    {
      "cell_type": "markdown",
      "source": [
        "ใช้โปรแกรมข้างล่างนี้ ตอบค าถาม 2ข้อต่อไปนี  17-18"
      ],
      "metadata": {
        "id": "b4JeSx6fpWNT"
      }
    },
    {
      "cell_type": "code",
      "source": [
        "s = float(input())\n",
        "if s > 80 : g = \"A\"\n",
        "if s > 60 : g = \"C\"\n",
        "if s > 70 : g = \"B\"\n",
        "if s < 50 : g = \"F\"\n",
        "if s > 50 : g = \"D\"\n",
        "print( g )"
      ],
      "metadata": {
        "id": "TP-GJxQNpsGv"
      },
      "execution_count": null,
      "outputs": []
    },
    {
      "cell_type": "markdown",
      "source": [
        "17.ถ้าโปรแกรมข้างบนท างาน แล้วป้อนข้อมูลเป็น 62.75 จะแสดงอะไรทางจอภาพ"
      ],
      "metadata": {
        "id": "mUyOXBZHproR"
      }
    },
    {
      "cell_type": "markdown",
      "source": [
        "18.ถ้าโปรแกรมข้างบนท างาน แล้วป้อนข้อมูลเป็น 99.99 จะแสดงอะไรทางจอภาพ"
      ],
      "metadata": {
        "id": "mbnycnlTqGuQ"
      }
    },
    {
      "cell_type": "markdown",
      "source": [
        "19.ถ้าให้โปรแกรมทางขวานี้ท างาน แสดงผลออกทางจอภาพกี่บรรทัด"
      ],
      "metadata": {
        "id": "RQfnVsnJqHpY"
      }
    },
    {
      "cell_type": "code",
      "source": [
        "while True:\n",
        "for i in range(1, 5):\n",
        " if i % 3 == 0:\n",
        " break\n",
        " print(i)\n",
        "print('done')"
      ],
      "metadata": {
        "id": "u57yr_NYqcBj"
      },
      "execution_count": null,
      "outputs": []
    },
    {
      "cell_type": "markdown",
      "source": [
        "20.ถ้าให้โปรแกรมทางขวานี้ท างาน แสดงผลออกทางจอภาพกี่บรรทัด"
      ],
      "metadata": {
        "id": "lQCXjw4BqQ1U"
      }
    },
    {
      "cell_type": "code",
      "source": [
        "for i in range(1, 4):\n",
        " for j in range(i):\n",
        " print(i, j)\n"
      ],
      "metadata": {
        "id": "jzt1ATrUqhWJ"
      },
      "execution_count": null,
      "outputs": []
    },
    {
      "cell_type": "markdown",
      "source": [
        "21.ถ้าให้โปรแกรมทางขวานี้ท างาน แสดงผลออกทางจอภาพกี่บรรทัด"
      ],
      "metadata": {
        "id": "S6PuKM1XqkQM"
      }
    },
    {
      "cell_type": "code",
      "source": [
        "for i in range(4, 1):\n",
        " for j in range(1, i):\n",
        " print(i, j)"
      ],
      "metadata": {
        "id": "9wvMYiz-qscd"
      },
      "execution_count": null,
      "outputs": []
    },
    {
      "cell_type": "markdown",
      "source": [
        "22.โปรแกรมทางขวานี้แสดงผลออกอะไรทางจอภาพ"
      ],
      "metadata": {
        "id": "W8qZ0Siuqu1k"
      }
    },
    {
      "cell_type": "code",
      "source": [
        "s = 0\n",
        "n = 3\n",
        "for k in range(1, n):\n",
        " for j in range(k):\n",
        " s += k*j\n",
        "print(s)"
      ],
      "metadata": {
        "id": "dCfe0yfPqyTH"
      },
      "execution_count": null,
      "outputs": []
    },
    {
      "cell_type": "markdown",
      "source": [
        "23.ข้อใดต่อไปนี้ท าให้เกิด Error เมื่อ s = \"This is a pen.\""
      ],
      "metadata": {
        "id": "s8fcE8O5q3x-"
      }
    },
    {
      "cell_type": "code",
      "source": [
        "A) s1 = s[0] B) s = s[0:0] C) s1 = s[0:0] D) s1 = s[100] E) ไม่มีข้อใดเกิด Error"
      ],
      "metadata": {
        "id": "Cfc_0MSHq2v9"
      },
      "execution_count": null,
      "outputs": []
    }
  ]
}