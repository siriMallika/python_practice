{
  "nbformat": 4,
  "nbformat_minor": 0,
  "metadata": {
    "colab": {
      "name": "Day#5-python-by_Kru-Lookkaew.ipynb",
      "provenance": [],
      "collapsed_sections": [],
      "authorship_tag": "ABX9TyMD5eTfVUIPe5U/hAunnZAQ",
      "include_colab_link": true
    },
    "kernelspec": {
      "name": "python3",
      "display_name": "Python 3"
    },
    "language_info": {
      "name": "python"
    }
  },
  "cells": [
    {
      "cell_type": "markdown",
      "metadata": {
        "id": "view-in-github",
        "colab_type": "text"
      },
      "source": [
        "<a href=\"https://colab.research.google.com/github/siriMallika/python_practice/blob/main/Day_5_python_by_Kru_Lookkaew.ipynb\" target=\"_parent\"><img src=\"https://colab.research.google.com/assets/colab-badge.svg\" alt=\"Open In Colab\"/></a>"
      ]
    },
    {
      "cell_type": "markdown",
      "source": [
        "https://www.coursehero.com/file/48638801/2110101-Midterm-Sample411115062170533624pdf/"
      ],
      "metadata": {
        "id": "FAcomD0hew-c"
      }
    },
    {
      "cell_type": "markdown",
      "source": [
        "1. ถ้าให้คำสั่ง a = 123.4 ทำงาน ตามด้วยให้ a = \"123.4\" ทำงาน แล้วตัวแปร a เก็บข้อมูลประเภทใด"
      ],
      "metadata": {
        "id": "doifmu4cep25"
      }
    },
    {
      "cell_type": "code",
      "execution_count": 1,
      "metadata": {
        "colab": {
          "base_uri": "https://localhost:8080/"
        },
        "id": "bJMYxKMgYBZE",
        "outputId": "2a44f724-f25c-4bb9-fc05-aa1ab81c48f7"
      },
      "outputs": [
        {
          "output_type": "execute_result",
          "data": {
            "text/plain": [
              "str"
            ]
          },
          "metadata": {},
          "execution_count": 1
        }
      ],
      "source": [
        "a = 123.4\n",
        "a = \"123.4\"\n",
        "type(a)"
      ]
    },
    {
      "cell_type": "markdown",
      "source": [
        "2. ชื่อตัวแปรในข้อใดผิดกฎในภาษา"
      ],
      "metadata": {
        "id": "fhDfJDrVfLSg"
      }
    },
    {
      "cell_type": "code",
      "source": [
        "T^T"
      ],
      "metadata": {
        "id": "hW4btDwQfPgX"
      },
      "execution_count": null,
      "outputs": []
    },
    {
      "cell_type": "markdown",
      "source": [
        "3. ถ้า a = 87634 ค าสั่ง a%1000//10%10 มีค่าเท่ากับข้อใด\n",
        "\n",
        "\n",
        "---\n",
        "\n",
        "\n",
        "A) 7 B) 6 C) 3 D) 4 E) ไม่มีข้อใดถูก\n"
      ],
      "metadata": {
        "id": "vPg4yVyEfU82"
      }
    },
    {
      "cell_type": "code",
      "source": [
        "a = 87634\n",
        "a%1000//10%10"
      ],
      "metadata": {
        "colab": {
          "base_uri": "https://localhost:8080/"
        },
        "id": "thqFWp27fSQO",
        "outputId": "c191fcaa-0468-46e6-daa1-cffd51bbc828"
      },
      "execution_count": 5,
      "outputs": [
        {
          "output_type": "execute_result",
          "data": {
            "text/plain": [
              "3"
            ]
          },
          "metadata": {},
          "execution_count": 5
        }
      ]
    },
    {
      "cell_type": "markdown",
      "source": [
        "4. การคำนวณในข้อใดได้ผลต่างจากข้ออื่น"
      ],
      "metadata": {
        "id": "kqjEmWatfy-s"
      }
    },
    {
      "cell_type": "markdown",
      "source": [
        "*/%  +-  --> ซ้ายไปขวา"
      ],
      "metadata": {
        "id": "oy3ia1mohYKT"
      }
    },
    {
      "cell_type": "markdown",
      "source": [
        "** ขวา -->ซ้าย"
      ],
      "metadata": {
        "id": "VUMsOEDUhjKO"
      }
    },
    {
      "cell_type": "code",
      "source": [
        "import math"
      ],
      "metadata": {
        "id": "Xekd06Awgp4B"
      },
      "execution_count": 9,
      "outputs": []
    },
    {
      "cell_type": "code",
      "source": [
        "9**1/2  #correct"
      ],
      "metadata": {
        "colab": {
          "base_uri": "https://localhost:8080/"
        },
        "id": "nMkvCRCtgVC5",
        "outputId": "a3f0f28a-85b5-464a-b46a-8b2f51cee3d0"
      },
      "execution_count": 11,
      "outputs": [
        {
          "output_type": "execute_result",
          "data": {
            "text/plain": [
              "4.5"
            ]
          },
          "metadata": {},
          "execution_count": 11
        }
      ]
    },
    {
      "cell_type": "code",
      "source": [
        "9**(1/2)"
      ],
      "metadata": {
        "colab": {
          "base_uri": "https://localhost:8080/"
        },
        "id": "9z_y0V2og4v0",
        "outputId": "94ed46d4-855a-4374-f631-8483c60c70ae"
      },
      "execution_count": 16,
      "outputs": [
        {
          "output_type": "execute_result",
          "data": {
            "text/plain": [
              "3.0"
            ]
          },
          "metadata": {},
          "execution_count": 16
        }
      ]
    },
    {
      "cell_type": "code",
      "source": [
        "9**0.5"
      ],
      "metadata": {
        "colab": {
          "base_uri": "https://localhost:8080/"
        },
        "id": "Y_JTDPYagzkL",
        "outputId": "938fad4e-530a-4a65-ff64-a62abe0ed40a"
      },
      "execution_count": 14,
      "outputs": [
        {
          "output_type": "execute_result",
          "data": {
            "text/plain": [
              "3.0"
            ]
          },
          "metadata": {},
          "execution_count": 14
        }
      ]
    },
    {
      "cell_type": "code",
      "source": [
        "math.sqrt(9)"
      ],
      "metadata": {
        "colab": {
          "base_uri": "https://localhost:8080/"
        },
        "id": "4dVRtOAMgVsL",
        "outputId": "b941a433-0120-4225-a82f-b04094456580"
      },
      "execution_count": 10,
      "outputs": [
        {
          "output_type": "execute_result",
          "data": {
            "text/plain": [
              "3.0"
            ]
          },
          "metadata": {},
          "execution_count": 10
        }
      ]
    },
    {
      "cell_type": "code",
      "source": [
        "math.pow(9,1/2)"
      ],
      "metadata": {
        "colab": {
          "base_uri": "https://localhost:8080/"
        },
        "id": "2kSU93BkgYUW",
        "outputId": "1d6c75bc-c6b5-4cd1-e0e7-c9eb061a3507"
      },
      "execution_count": 15,
      "outputs": [
        {
          "output_type": "execute_result",
          "data": {
            "text/plain": [
              "float"
            ]
          },
          "metadata": {},
          "execution_count": 15
        }
      ]
    },
    {
      "cell_type": "code",
      "source": [
        "3/1"
      ],
      "metadata": {
        "colab": {
          "base_uri": "https://localhost:8080/"
        },
        "id": "uLnwwQtmgZ8T",
        "outputId": "118ae692-8928-4aee-9422-814b50003dce"
      },
      "execution_count": 13,
      "outputs": [
        {
          "output_type": "execute_result",
          "data": {
            "text/plain": [
              "3.0"
            ]
          },
          "metadata": {},
          "execution_count": 13
        }
      ]
    },
    {
      "cell_type": "code",
      "source": [
        "เหมือนกันทุกข้อ"
      ],
      "metadata": {
        "id": "tWan--_zghlK"
      },
      "execution_count": null,
      "outputs": []
    },
    {
      "cell_type": "markdown",
      "source": [
        "5. เมื่อโปรแกรมทางขวานี้ท างาน แล้วป้อนเลข 12345 จะได้ a มีค่าเท่าใด"
      ],
      "metadata": {
        "id": "yA5gginih2Mo"
      }
    },
    {
      "cell_type": "code",
      "source": [
        "n = int(input())\n",
        "a = n%10\n",
        "n //= 10; a = 10*a + n%10\n",
        "n //= 10; a = 10*a + n%10\n",
        "n //= 10; a = 10*a + n%10\n",
        "n //= 10; a = 10*a + n%10"
      ],
      "metadata": {
        "id": "2foQh3Z5h8Dw"
      },
      "execution_count": null,
      "outputs": []
    },
    {
      "cell_type": "markdown",
      "source": [
        "A) 10000 B) 50000 C) 12345 D) 54321"
      ],
      "metadata": {
        "id": "Mcr0bKiuiA79"
      }
    },
    {
      "cell_type": "markdown",
      "source": [
        "6. คำสั่ง 5+a/9*(c + 32) แทนการคำนวณสูตรใด"
      ],
      "metadata": {
        "id": "WQVEv7EyiIev"
      }
    },
    {
      "cell_type": "code",
      "source": [
        ""
      ],
      "metadata": {
        "id": "3H8tOXBeiPsu"
      },
      "execution_count": null,
      "outputs": []
    },
    {
      "cell_type": "code",
      "source": [
        ""
      ],
      "metadata": {
        "id": "SX-ydYB8j07J"
      },
      "execution_count": null,
      "outputs": []
    },
    {
      "cell_type": "markdown",
      "source": [
        "7. ให้ m เก็บจ านวนเต็ม ข้อใดไม่ใช่ค าสั่งที่ทดสอบว่า m เก็บเลขเดือนที่ถูกต้อง"
      ],
      "metadata": {
        "id": "5lUk_4m2jbu4"
      }
    },
    {
      "cell_type": "code",
      "source": [
        "if m > 0 and m < 13 :"
      ],
      "metadata": {
        "id": "Qcs8_lQflioL"
      },
      "execution_count": null,
      "outputs": []
    },
    {
      "cell_type": "code",
      "source": [
        "if not(m < 1 or m > 12) :"
      ],
      "metadata": {
        "id": "YEuNohrMl53r"
      },
      "execution_count": null,
      "outputs": []
    },
    {
      "cell_type": "code",
      "source": [
        "if 1 <= m <= 12 : "
      ],
      "metadata": {
        "id": "o-h23ovOl9Cw"
      },
      "execution_count": null,
      "outputs": []
    },
    {
      "cell_type": "code",
      "source": [
        "if 0 < m < 13:"
      ],
      "metadata": {
        "id": "smT-vjLjmGxs"
      },
      "execution_count": null,
      "outputs": []
    },
    {
      "cell_type": "markdown",
      "source": [
        "13.ถ้าให้โปรแกรมทางขวานี้ท างาน แล้วป้อนข้อมูลเป็น 7 1 4 6 อยากทราบว่าจะแสดงอะไร"
      ],
      "metadata": {
        "id": "K410ludoncZ7"
      }
    },
    {
      "cell_type": "code",
      "source": [
        "a,b,c,d = [int(e) for e in input().split()]\n",
        "if a > b : a,b = b,a\n",
        "if b > c : b,c = c,b\n",
        "if c > d : c,d = d,c\n",
        "if a > b : a,b = b,a\n",
        "if b > c : b,c = c,b\n",
        "if a > b : a,b = b,a\n",
        "print(b)\n"
      ],
      "metadata": {
        "id": "9_KjClrNoSSe"
      },
      "execution_count": null,
      "outputs": []
    },
    {
      "cell_type": "code",
      "source": [
        "A) 7\n",
        "B) 1\n",
        "C) 4\n",
        "D) 6"
      ],
      "metadata": {
        "id": "jPxPsWO5ne9m"
      },
      "execution_count": null,
      "outputs": []
    },
    {
      "cell_type": "markdown",
      "source": [
        "ใช้โปรแกรมข้างล่างนี้ ตอบค าถาม 3 ข้อต่อไปน 14-16"
      ],
      "metadata": {
        "id": "JyvrbOQCoy23"
      }
    },
    {
      "cell_type": "code",
      "source": [
        "a,b,c = [int(e) for e in input().split()]\n",
        "if a > b :\n",
        " a += b\n",
        "elif a < b :\n",
        " b += a\n",
        "else:\n",
        " a = b + c\n",
        "print(a,b,c)"
      ],
      "metadata": {
        "id": "oynBgCc7oyDU"
      },
      "execution_count": null,
      "outputs": []
    },
    {
      "cell_type": "markdown",
      "source": [
        "14.ถ้าโปรแกรมข้างบนท างาน แล้วป้อนข้อมูลเป็น 2 4 2 จะแสดงอะไรทางจอภาพ"
      ],
      "metadata": {
        "id": "eR1rHlgZpIX5"
      }
    },
    {
      "cell_type": "markdown",
      "source": [
        "A) 2 4 2 B) 2 6 2 C) 6 2 2 D) 6 4 2 E) ไม่มีข้อใดถูก"
      ],
      "metadata": {
        "id": "JReRuQVNpL2U"
      }
    },
    {
      "cell_type": "markdown",
      "source": [
        "15.ถ้าโปรแกรมข้างบนท างาน แล้วป้อนข้อมูลเป็น 4 4 2 จะแสดงอะไรทางจอภาพ"
      ],
      "metadata": {
        "id": "Ciw5oGFHpSQQ"
      }
    },
    {
      "cell_type": "markdown",
      "source": [
        "16.ถ้าโปรแกรมข้างบนท างาน แล้วป้อนข้อมูลเป็น 4 2 2 จะแสดงอะไรทางจอภาพ"
      ],
      "metadata": {
        "id": "9-ASnkjEpTZn"
      }
    },
    {
      "cell_type": "markdown",
      "source": [
        "ใช้โปรแกรมข้างล่างนี้ ตอบค าถาม 2ข้อต่อไปนี  17-18"
      ],
      "metadata": {
        "id": "b4JeSx6fpWNT"
      }
    },
    {
      "cell_type": "code",
      "source": [
        "s = float(input())\n",
        "if s > 80 : g = \"A\"\n",
        "if s > 60 : g = \"C\"\n",
        "if s > 70 : g = \"B\"\n",
        "if s < 50 : g = \"F\"\n",
        "if s > 50 : g = \"D\"\n",
        "print( g )"
      ],
      "metadata": {
        "id": "TP-GJxQNpsGv"
      },
      "execution_count": null,
      "outputs": []
    },
    {
      "cell_type": "markdown",
      "source": [
        "17.ถ้าโปรแกรมข้างบนท างาน แล้วป้อนข้อมูลเป็น 62.75 จะแสดงอะไรทางจอภาพ"
      ],
      "metadata": {
        "id": "mUyOXBZHproR"
      }
    },
    {
      "cell_type": "markdown",
      "source": [
        "18.ถ้าโปรแกรมข้างบนท างาน แล้วป้อนข้อมูลเป็น 99.99 จะแสดงอะไรทางจอภาพ"
      ],
      "metadata": {
        "id": "mbnycnlTqGuQ"
      }
    },
    {
      "cell_type": "markdown",
      "source": [
        "19.ถ้าให้โปรแกรมทางขวานี้ท างาน แสดงผลออกทางจอภาพกี่บรรทัด"
      ],
      "metadata": {
        "id": "RQfnVsnJqHpY"
      }
    },
    {
      "cell_type": "code",
      "source": [
        "while True:\n",
        "  for i in range(1, 5):\n",
        "    if i % 3 == 0:\n",
        "      break\n",
        "    print(i)\n",
        "print('done')"
      ],
      "metadata": {
        "id": "u57yr_NYqcBj"
      },
      "execution_count": null,
      "outputs": []
    },
    {
      "cell_type": "markdown",
      "source": [
        "20.ถ้าให้โปรแกรมทางขวานี้ท างาน แสดงผลออกทางจอภาพกี่บรรทัด"
      ],
      "metadata": {
        "id": "lQCXjw4BqQ1U"
      }
    },
    {
      "cell_type": "code",
      "source": [
        "for i in range(1, 4):\n",
        "  for j in range(i):\n",
        "    print(i, j)\n"
      ],
      "metadata": {
        "id": "jzt1ATrUqhWJ"
      },
      "execution_count": null,
      "outputs": []
    },
    {
      "cell_type": "markdown",
      "source": [
        "21.ถ้าให้โปรแกรมทางขวานี้ท างาน แสดงผลออกทางจอภาพกี่บรรทัด"
      ],
      "metadata": {
        "id": "S6PuKM1XqkQM"
      }
    },
    {
      "cell_type": "code",
      "source": [
        "for i in range(4, 1):\n",
        "  for j in range(1, i):\n",
        "    print(i, j)"
      ],
      "metadata": {
        "id": "9wvMYiz-qscd"
      },
      "execution_count": null,
      "outputs": []
    },
    {
      "cell_type": "markdown",
      "source": [
        "22.โปรแกรมทางขวานี้แสดงผลออกอะไรทางจอภาพ"
      ],
      "metadata": {
        "id": "W8qZ0Siuqu1k"
      }
    },
    {
      "cell_type": "code",
      "source": [
        "s = 0\n",
        "n = 3\n",
        "for k in range(1, n):\n",
        " for j in range(k):\n",
        " s += k*j\n",
        "print(s)"
      ],
      "metadata": {
        "id": "dCfe0yfPqyTH"
      },
      "execution_count": null,
      "outputs": []
    },
    {
      "cell_type": "markdown",
      "source": [
        "23.ข้อใดต่อไปนี้ท าให้เกิด Error เมื่อ s = \"This is a pen.\""
      ],
      "metadata": {
        "id": "s8fcE8O5q3x-"
      }
    },
    {
      "cell_type": "code",
      "source": [
        "A) s1 = s[0] B) s = s[0:0] C) s1 = s[0:0] D) s1 = s[100] E) ไม่มีข้อใดเกิด Error"
      ],
      "metadata": {
        "id": "Cfc_0MSHq2v9"
      },
      "execution_count": null,
      "outputs": []
    },
    {
      "cell_type": "markdown",
      "source": [
        "24.เมื่อ s = \"This is a pen.\" ผลการรันค าสั่ง print(s.find(\"is\",2)) จะได้ผลลัพธ์เป็นอย่างไร"
      ],
      "metadata": {
        "id": "Pi4-L_KSrYGJ"
      }
    },
    {
      "cell_type": "code",
      "source": [
        "A) -1 B) 0 C) 2 D) 5 E) ไม่มีข้อใดถูก"
      ],
      "metadata": {
        "id": "BpOh84MKrfbm"
      },
      "execution_count": null,
      "outputs": []
    },
    {
      "cell_type": "markdown",
      "source": [
        "25.เมื่อ s = \"This is a pen.\" ผลการรันค าสั่ง print(s[2:5].upper()) จะได้ผลลัพธ์เป็นอย่างไร"
      ],
      "metadata": {
        "id": "39-QFenmriud"
      }
    },
    {
      "cell_type": "code",
      "source": [
        "A) is B) IS C) is i D) IS I E) ไม่มีข้อใดถูก"
      ],
      "metadata": {
        "id": "MBf8lJeyrnA0"
      },
      "execution_count": null,
      "outputs": []
    },
    {
      "cell_type": "markdown",
      "source": [
        "26.ผลการรันค าสั่ง print((\"1\"*2+2)*3) จะได้ผลลัพธ์เป็นอย่างไร"
      ],
      "metadata": {
        "id": "CSPifpjmruKg"
      }
    },
    {
      "cell_type": "code",
      "source": [
        "A) 112 B) 112112112 C) 111111111111 D) 12121212 E) ไม่มีข้อใดถูก"
      ],
      "metadata": {
        "id": "F_Ies73ur3uy"
      },
      "execution_count": null,
      "outputs": []
    },
    {
      "cell_type": "markdown",
      "source": [
        "27.หากเก็บเลขประจ าตัวนิสิต 10 หลักของนิสิตจ านวน 100 คน ไว้ในตัวแปร stored_id เช่น"
      ],
      "metadata": {
        "id": "BLt_JEENrmQY"
      }
    },
    {
      "cell_type": "code",
      "source": [
        "\"5937015921:5934847821:5938763221:593...\" ตัวเลือกในข้อใดสามารถหาล าดับที่ของเลขประจ าตัวที่ต้องการค้นหา"
      ],
      "metadata": {
        "id": "f9ymsIFJsBG_"
      },
      "execution_count": null,
      "outputs": []
    },
    {
      "cell_type": "code",
      "source": [
        "(เก็บในตัวแปร key_id) ได้ เช่น หากต้องการค้นหาเลขประจ าตัว 5937015921 จะต้องตอบ เป็น 1 "
      ],
      "metadata": {
        "id": "v31ISB0lsFzc"
      },
      "execution_count": null,
      "outputs": []
    },
    {
      "cell_type": "code",
      "source": [
        "A) (stored_id.find(key_id)+11)//11 B) stored_id.find(key_id)//10+1\n",
        "C) stored_id.find(key_id)//10 D) stored_id.find(key_id)//11\n",
        "E) ไม่มีข้อใดถูก"
      ],
      "metadata": {
        "id": "2ytoclROsLTQ"
      },
      "execution_count": null,
      "outputs": []
    },
    {
      "cell_type": "markdown",
      "source": [
        "28.โปรแกรมทางขวานี้แสดงผลอะไรออกทางจอภาพ"
      ],
      "metadata": {
        "id": "Lx-5HV6hrduM"
      }
    },
    {
      "cell_type": "code",
      "source": [
        "s = \"email: abc@gmail.com\"\n",
        "i1 = s.find(\":\")\n",
        "i2 = s.find(\"@\")\n",
        "print(s[i1+1:i2].strip())"
      ],
      "metadata": {
        "id": "J0tpI6SHsWmh"
      },
      "execution_count": null,
      "outputs": []
    },
    {
      "cell_type": "code",
      "source": [
        "A) email B) abc C) gmail\n",
        "D) com\n",
        "E) ไม่มีข้อใดถูก"
      ],
      "metadata": {
        "id": "NOEfI8jUsaVU"
      },
      "execution_count": null,
      "outputs": []
    },
    {
      "cell_type": "markdown",
      "source": [
        "29.โปรแกรมทางขวานี้ต้องการพิมพ์แต่ตัวเลขในข้อความออกทางจอภาพ บรรทัดใดผิด"
      ],
      "metadata": {
        "id": "otTcuYSgseaC"
      }
    },
    {
      "cell_type": "code",
      "source": [
        "1: s = \"Tel: 081-483-3822\"\n",
        "2: out = \"\"\n",
        "3: for c in s:\n",
        "4: if c in \"0123456789\":\n",
        "5: out += s\n",
        "6: print(out)\n"
      ],
      "metadata": {
        "id": "FWwfQl3ospQf"
      },
      "execution_count": null,
      "outputs": []
    },
    {
      "cell_type": "code",
      "source": [
        "A) 1 B) 3 C) 4 D) 5\n",
        "E) ไม่มีข้อใดถูก"
      ],
      "metadata": {
        "id": "07d6M-kAstyO"
      },
      "execution_count": null,
      "outputs": []
    },
    {
      "cell_type": "markdown",
      "source": [
        "30.หากต้องการสร้างข้อความใหม่จากข้อความเดิม โดยใช้ต าแหน่งที่หารด้วย 3 ลงตัว เช่น หากข้อความเดิมเป็น \"Aa1B8dCieD38E\" จะได้\n",
        "ข้อความใหม่เป็น \"ABCDE\" โปรแกรมทางขวามือ บรรทัดใดผิด"
      ],
      "metadata": {
        "id": "Q3s5eomms3Fn"
      }
    },
    {
      "cell_type": "code",
      "source": [
        "s = \"Aa1B8dCieD38E\"\n",
        "o = \"\"\n",
        "for i in range(len(s)-1)\n",
        " if i%3 == 0:\n",
        " o += s[i]\n",
        "print(o)\n"
      ],
      "metadata": {
        "id": "5JM6VkLLs-GV"
      },
      "execution_count": null,
      "outputs": []
    },
    {
      "cell_type": "code",
      "source": [
        "A) 1 B) 3 C) 4 D) 5\n",
        "E) ไม่มีข้อใดถูก"
      ],
      "metadata": {
        "id": "0dYQ-w8es7YL"
      },
      "execution_count": null,
      "outputs": []
    },
    {
      "cell_type": "markdown",
      "source": [
        "31.สมมติว่าในกล่องทางขวาเป็นข้อความในไฟล์ชื่อ data.txt โปรแกรมในกล่องทางขวา จะให้ผลลัพธ์ทางหน้าจอเป็นอย่างไร"
      ],
      "metadata": {
        "id": "HCh2sJ_ktHwV"
      }
    },
    {
      "cell_type": "markdown",
      "source": [
        "![image.png](data:image/png;base64,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)"
      ],
      "metadata": {
        "id": "GVrV9G1jtap2"
      }
    },
    {
      "cell_type": "code",
      "source": [
        "A) abcdefghi\n",
        "B) abc\n",
        " def\n",
        " ghi\n",
        "C) abc\n",
        " def\n",
        " ghi\n",
        "D) เกิด Error ขึ้น\n",
        "E) ไม่มีข้อใดถูก\n"
      ],
      "metadata": {
        "id": "rIuyhDgxtN7r"
      },
      "execution_count": null,
      "outputs": []
    },
    {
      "cell_type": "markdown",
      "source": [
        "32.สมมติว่าในกล่องทางขวาเป็นข้อความในไฟล์ชื่อ data.txt โปรแกรมในกล่องทางขวา จะให้ผลลัพธ์ทางหน้าจอเป็นอย่างไร"
      ],
      "metadata": {
        "id": "axHv7bEDtlag"
      }
    },
    {
      "cell_type": "markdown",
      "source": [
        "![image.png](data:image/png;base64,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)"
      ],
      "metadata": {
        "id": "sVcEdRBwtqg6"
      }
    },
    {
      "cell_type": "code",
      "source": [
        "A) abcdefghi\n",
        "B) abc\n",
        " def\n",
        " ghi\n",
        "C) abc\n",
        " def\n",
        " ghi\n",
        "D) เกิด Error ขึ้น\n",
        "E) ไม่มีข้อใดถูก"
      ],
      "metadata": {
        "id": "1nt9F8retrL6"
      },
      "execution_count": null,
      "outputs": []
    },
    {
      "cell_type": "markdown",
      "source": [
        "33.สมมติว่าในกล่องทางขวาเป็นข้อความในไฟล์ชื่อ data.txt เก็บคะแนนของนักเรียน ในรูปแบบ student_id:score โปรแกรมใน\n",
        "กล่องทางขวาต้องการหาคะแนนมากที่สุดที่เก็บอยู่ในไฟล์นั้น เมื่อสั่งท างานแล้วจะท างานผิดที่บรรทัดใด"
      ],
      "metadata": {
        "id": "zdafXTBCuh1a"
      }
    },
    {
      "cell_type": "markdown",
      "source": [
        "![image.png](data:image/png;base64,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)"
      ],
      "metadata": {
        "id": "b2lyPCQouqNx"
      }
    },
    {
      "cell_type": "code",
      "source": [
        "A) 2\n",
        "B) 3\n",
        "C) 4\n",
        "D) 5\n",
        "E) ไม่มีบรรทัดใดผิด"
      ],
      "metadata": {
        "id": "kfdYQxJxuj9u"
      },
      "execution_count": null,
      "outputs": []
    },
    {
      "cell_type": "markdown",
      "source": [
        "34. ให้ a = [1,[2,3],4] ข้อใดไม่ใช่ลิสต"
      ],
      "metadata": {
        "id": "h1TU9tY0uyR7"
      }
    },
    {
      "cell_type": "markdown",
      "source": [
        "A) a[2] B) a[-2] C) a[:] D) a[1:2][0] E) มีไม่ใช่ลิสต์มากกว่า 1 ข้อ"
      ],
      "metadata": {
        "id": "YkmXzgqhvPpb"
      }
    },
    {
      "cell_type": "markdown",
      "source": [
        "35.ข้อใดได้ผลต่างจากข้ออื่น"
      ],
      "metadata": {
        "id": "bQpqfGL4wnPw"
      }
    },
    {
      "cell_type": "code",
      "source": [
        "A) [99 for x in range(2) for y in range(2)]\n",
        "B) [11*9 for e in range(4)]\n",
        "C) [99,99] + [99,99]\n",
        "D) [99]*2**2\n",
        "E) เหมือนหมดทุกข้อ"
      ],
      "metadata": {
        "id": "e583DX2RvWUe"
      },
      "execution_count": null,
      "outputs": []
    },
    {
      "cell_type": "markdown",
      "source": [
        "36.ให้ a = [1,2,3,4,5] ข้อใดให้ผลลัพธ์ต่างจากพวก"
      ],
      "metadata": {
        "id": "_1nUjhm7wmxp"
      }
    },
    {
      "cell_type": "code",
      "source": [
        "A) a[5:5]=[6] B) a[6:6]=[6] C) a[5:]=[6] D) a[len(a):]=[6] E) เหมือนกันทุกข้อ"
      ],
      "metadata": {
        "id": "R7zhi-k7wmRK"
      },
      "execution_count": null,
      "outputs": []
    },
    {
      "cell_type": "markdown",
      "source": [
        "37.ข้อใดคือผลลัพธ์ของ n = [1,2,3]; n.append([4,5,6]*2); print(len(n))"
      ],
      "metadata": {
        "id": "jmltFLMvx3ic"
      }
    },
    {
      "cell_type": "code",
      "source": [
        "A) 4 B) 5 C) 6 D) 9 E) ไม่มีข้อใดถูก"
      ],
      "metadata": {
        "id": "FSTvm7Qwx7BD"
      },
      "execution_count": null,
      "outputs": []
    },
    {
      "cell_type": "markdown",
      "source": [
        "38.ข้อใดคือผลลัพธ์ของ โปรแกรมทางขวา"
      ],
      "metadata": {
        "id": "3zj0Hq_Zx-Ij"
      }
    },
    {
      "cell_type": "code",
      "source": [
        "x = [5,4,3,2,1]\n",
        "for i in range(len(x)):\n",
        "  y = []\n",
        "  for j in range(i, len(x)):\n",
        "    y.append(x[i])\n",
        "  print(y)"
      ],
      "metadata": {
        "id": "ZebTRiEGyEcr"
      },
      "execution_count": null,
      "outputs": []
    },
    {
      "cell_type": "code",
      "source": [
        "A) [5, 4, 3, 2, 1]      B)   [5, 5, 5, 5, 5]\n",
        "   [4, 3, 2, 1]              [4, 4, 4, 4]\n",
        "   [3, 2, 1]                 [3, 3, 3]\n",
        "   [2, 1]                    [2, 2]\n",
        "   [1]                       [1]"
      ],
      "metadata": {
        "id": "8gzTLc4jyR0F"
      },
      "execution_count": null,
      "outputs": []
    },
    {
      "cell_type": "code",
      "source": [
        "C)  [1]                  D) [1]\n",
        "    [1, 2]                  [2, 2]    \n",
        "    [1, 2, 3]               [3, 3, 3]\n",
        "    [1, 2, 3, 4]            [4, 4, 4, 4]\n",
        "    [1, 2, 3, 4, 5]         [5, 5, 5, 5, 5]"
      ],
      "metadata": {
        "id": "AdjOSkoyyqBF"
      },
      "execution_count": null,
      "outputs": []
    },
    {
      "cell_type": "markdown",
      "source": [
        "39.ให้ a = [1,2,3,4,5] ข้อใดลบเลข 4 ออกจากลิสต์ a"
      ],
      "metadata": {
        "id": "MWoeowDVzGAi"
      }
    },
    {
      "cell_type": "code",
      "source": [
        "A) a.pop(3)       B) a.remove(3)      C) a.delete(3)\n",
        "D) a.eliminate(3) E) ไม่มีข้อใดถูก"
      ],
      "metadata": {
        "id": "KHc7euifzLfE"
      },
      "execution_count": null,
      "outputs": []
    },
    {
      "cell_type": "markdown",
      "source": [
        "40.ให้โปรแกรมทางขวาท างานแล้ว จะได้อะไรแสดงทางจอภาพ"
      ],
      "metadata": {
        "id": "0apIyCzl7nAY"
      }
    },
    {
      "cell_type": "code",
      "source": [
        "x = []\n",
        "for i in range(3):\n",
        " x.append(i)\n",
        "y = []\n",
        "for i in range(len(x)):\n",
        " y += y + x[i:i+1]\n",
        "print(y)"
      ],
      "metadata": {
        "id": "mQiIa9Ue7nfI"
      },
      "execution_count": null,
      "outputs": []
    },
    {
      "cell_type": "code",
      "source": [
        "A) [0, 0, 1, 0, 0, 1, 2]\n",
        "B) [0, 1, 2]\n",
        "C) [0, 0, 1, 1, 2, 2]\n",
        "D) []\n",
        "E) ไม่มีข้อใดถูก\n"
      ],
      "metadata": {
        "id": "kgNP4WBB7xOX"
      },
      "execution_count": null,
      "outputs": []
    },
    {
      "cell_type": "markdown",
      "source": [
        "41.ให้โปรแกรมทางขวาท างานแล้ว จะได้อะไรแสดงทางจอภาพ"
      ],
      "metadata": {
        "id": "g4m65zt_72Pj"
      }
    },
    {
      "cell_type": "code",
      "source": [
        "x = []\n",
        "for i in range(4):\n",
        " x.append(i)\n",
        "y = []\n",
        "for i in range(len(x)):\n",
        " y += x[i:i+2]\n",
        "print(y)"
      ],
      "metadata": {
        "id": "Ks7Bi_ZP76D-"
      },
      "execution_count": null,
      "outputs": []
    },
    {
      "cell_type": "code",
      "source": [
        "A) [0, 1, 2, 3]\n",
        "B) [[0,1],[1,2],[2,3]]\n",
        "C) [2, 1, 0]\n",
        "D) [0, 1, 1, 2, 2, 3, 3]\n",
        "E) ไม่มีข้อใดถูก\n"
      ],
      "metadata": {
        "id": "tacWbnWx780O"
      },
      "execution_count": null,
      "outputs": []
    },
    {
      "cell_type": "markdown",
      "source": [
        "42.ให้โปรแกรมทางขวาท างานแล้ว จะได้อะไรแสดงทางจอภาพ"
      ],
      "metadata": {
        "id": "J5pdZkUT7_2d"
      }
    },
    {
      "cell_type": "code",
      "source": [
        "x = [1,2,3,4,5]\n",
        "for i in range(len(x)):\n",
        " x[i:i+2] = x[i+1:i+3]\n",
        "print(x)"
      ],
      "metadata": {
        "id": "bqiWUsfx8ERZ"
      },
      "execution_count": null,
      "outputs": []
    },
    {
      "cell_type": "code",
      "source": [
        "A) [2,3,4,5,0]\n",
        "B) [1,2,3,4]\n",
        "C) [2,3,4,5]\n",
        "D) [0,1,2,3,4]\n",
        "E) ไม่มีข้อใดถูก\n"
      ],
      "metadata": {
        "id": "7XA6N8_u8GXG"
      },
      "execution_count": null,
      "outputs": []
    },
    {
      "cell_type": "markdown",
      "source": [
        "43. ให้โปรแกรมทางขวาท างานแล้ว จะได้อะไรแสดงทางจอภาพ"
      ],
      "metadata": {
        "id": "LtPYd8LwzR7K"
      }
    },
    {
      "cell_type": "code",
      "source": [
        "x = [1,2,3,4,5]\n",
        "for i in range(1,len(x)):\n",
        " x[-(i+1):-i] = x[-(i+2):-(i+1)]\n",
        "print(x)\n"
      ],
      "metadata": {
        "id": "_4WQ-J4I8L-9"
      },
      "execution_count": null,
      "outputs": []
    },
    {
      "cell_type": "code",
      "source": [
        "x = [1,2,3,4,5]\n",
        "print('x[-1]',x[-1])\n",
        "print('x[-2]',x[-2])\n",
        "print('x[-3]',x[-3])\n",
        "print('x[-4]',x[-4])\n",
        "print('x[-5]',x[-5])\n",
        "for i in range(1,len(x)):\n",
        "  print(i)\n",
        "  print(-(i+1) ,-i ,x[-(i+1):-i])\n",
        "  x[-(i+1):-i] = x[-(i+2):-(i+1)]\n",
        "  print(-(i+1) ,-i ,x[-(i+1):-i])\n",
        "  print(-(i+2) ,-(i+1) ,x[-(i+2):-(i+1)])\n",
        "print(x)"
      ],
      "metadata": {
        "colab": {
          "base_uri": "https://localhost:8080/"
        },
        "id": "4jqLK9nSzoaP",
        "outputId": "5e182ecf-a155-4f95-d94b-e672640da699"
      },
      "execution_count": 19,
      "outputs": [
        {
          "output_type": "stream",
          "name": "stdout",
          "text": [
            "x[-1] 5\n",
            "x[-2] 4\n",
            "x[-3] 3\n",
            "x[-4] 2\n",
            "x[-5] 1\n",
            "1\n",
            "-2 -1 [4]\n",
            "-2 -1 [3]\n",
            "-3 -2 [3]\n",
            "2\n",
            "-3 -2 [3]\n",
            "-3 -2 [2]\n",
            "-4 -3 [2]\n",
            "3\n",
            "-4 -3 [2]\n",
            "-4 -3 [1]\n",
            "-5 -4 [1]\n",
            "4\n",
            "-5 -4 [1]\n",
            "-5 -4 []\n",
            "-6 -5 []\n",
            "[1, 2, 3, 5]\n"
          ]
        }
      ]
    },
    {
      "cell_type": "markdown",
      "source": [
        "44.ให้โปรแกรมทางขวาท างานแล้ว จะได้อะไรแสดงทางจอภาพ"
      ],
      "metadata": {
        "id": "T9u2A39A8PsO"
      }
    },
    {
      "cell_type": "code",
      "source": [
        "x = [0,1,2,3,4,5,6]\n",
        "c = 0\n",
        "for i in range(len(x)):\n",
        " for j in range(len(x)):\n",
        " if x[i]+x[j] == len(x) :\n",
        " c += 1\n",
        "print(c)"
      ],
      "metadata": {
        "id": "mYFHbjCE8Te6"
      },
      "execution_count": null,
      "outputs": []
    },
    {
      "cell_type": "code",
      "source": [
        "A) 3\n",
        "B) 4\n",
        "C) 5\n",
        "D) 6\n",
        "E) ไม่มีข้อใดถูก"
      ],
      "metadata": {
        "id": "wpUwXpXD8V6e"
      },
      "execution_count": null,
      "outputs": []
    },
    {
      "cell_type": "markdown",
      "source": [
        "45.ให้โปรแกรมทางขวาท างานแล้ว จะได้อะไรแสดงทางจอภาพ"
      ],
      "metadata": {
        "id": "X7ar9JEg8X8X"
      }
    },
    {
      "cell_type": "code",
      "source": [
        "x = [0,1,2,3,4,5,6]\n",
        "c = 0\n",
        "for i in range(len(x)):\n",
        " for j in range(i+1,len(x)):\n",
        " if x[i]+x[j] == len(x) :\n",
        " c += 1\n",
        "print(c)\n"
      ],
      "metadata": {
        "id": "pAf1bYre8fr1"
      },
      "execution_count": null,
      "outputs": []
    },
    {
      "cell_type": "code",
      "source": [
        "A) 1\n",
        "B) 2\n",
        "C) 3\n",
        "D) 4\n",
        "E) ไม่มีข้อใดถูก"
      ],
      "metadata": {
        "id": "Jb4a0ZHu8eWB"
      },
      "execution_count": null,
      "outputs": []
    },
    {
      "cell_type": "markdown",
      "source": [
        "\n",
        "\n",
        "---\n",
        "\n",
        "end ------ Good Luck jaaaa ^^ น้องน้ำหวาน\n",
        "\n",
        "---\n",
        "\n"
      ],
      "metadata": {
        "id": "fISOAKlJ8j4W"
      }
    }
  ]
}