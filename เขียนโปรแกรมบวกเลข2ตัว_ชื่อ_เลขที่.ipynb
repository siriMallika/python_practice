{
  "nbformat": 4,
  "nbformat_minor": 0,
  "metadata": {
    "colab": {
      "name": "เขียนโปรแกรมบวกเลข2ตัว-ชื่อ-เลขที่.ipynb",
      "provenance": [],
      "authorship_tag": "ABX9TyMLG7ncdB9HpkHI5ptyVFgf",
      "include_colab_link": true
    },
    "kernelspec": {
      "name": "python3",
      "display_name": "Python 3"
    },
    "language_info": {
      "name": "python"
    }
  },
  "cells": [
    {
      "cell_type": "markdown",
      "metadata": {
        "id": "view-in-github",
        "colab_type": "text"
      },
      "source": [
        "<a href=\"https://colab.research.google.com/github/siriMallika/python_practice/blob/main/%E0%B9%80%E0%B8%82%E0%B8%B5%E0%B8%A2%E0%B8%99%E0%B9%82%E0%B8%9B%E0%B8%A3%E0%B9%81%E0%B8%81%E0%B8%A3%E0%B8%A1%E0%B8%9A%E0%B8%A7%E0%B8%81%E0%B9%80%E0%B8%A5%E0%B8%822%E0%B8%95%E0%B8%B1%E0%B8%A7_%E0%B8%8A%E0%B8%B7%E0%B9%88%E0%B8%AD_%E0%B9%80%E0%B8%A5%E0%B8%82%E0%B8%97%E0%B8%B5%E0%B9%88.ipynb\" target=\"_parent\"><img src=\"https://colab.research.google.com/assets/colab-badge.svg\" alt=\"Open In Colab\"/></a>"
      ]
    },
    {
      "cell_type": "code",
      "execution_count": 2,
      "metadata": {
        "colab": {
          "base_uri": "https://localhost:8080/"
        },
        "id": "VdCLXKNIw66L",
        "outputId": "4af536bf-3604-4a68-eae7-151467fbc29a"
      },
      "outputs": [
        {
          "output_type": "stream",
          "name": "stdout",
          "text": [
            "30\n"
          ]
        }
      ],
      "source": [
        "#เขียนโปรแกรมบวกเลข 2 \n",
        "num1=10\n",
        "num2=20\n",
        "sum=num1+num2\n",
        "print(sum)"
      ]
    }
  ]
}